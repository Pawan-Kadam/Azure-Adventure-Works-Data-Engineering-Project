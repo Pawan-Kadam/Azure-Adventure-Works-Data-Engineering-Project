{
 "cells": [
  {
   "cell_type": "markdown",
   "metadata": {
    "application/vnd.databricks.v1+cell": {
     "cellMetadata": {
      "byteLimit": 2048000,
      "rowLimit": 10000
     },
     "inputWidgets": {},
     "nuid": "fd8e5170-00a2-4205-9661-30d35ed70238",
     "showTitle": false,
     "tableResultSettingsMap": {},
     "title": ""
    }
   },
   "source": [
    "## Silver Layer Code"
   ]
  },
  {
   "cell_type": "code",
   "execution_count": 0,
   "metadata": {
    "application/vnd.databricks.v1+cell": {
     "cellMetadata": {
      "byteLimit": 2048000,
      "rowLimit": 10000
     },
     "inputWidgets": {},
     "nuid": "f30c8e0c-d42f-4ea9-a240-6c7a55f910bd",
     "showTitle": false,
     "tableResultSettingsMap": {},
     "title": ""
    }
   },
   "outputs": [],
   "source": [
    "# To Access data\n",
    "\n",
    "spark.conf.set(\"fs.azure.account.auth.type.awdedatalake.dfs.core.windows.net\", \"SAS\")\n",
    "spark.conf.set(\"fs.azure.sas.token.provider.type.awdedatalake.dfs.core.windows.net\", \n",
    "               \"org.apache.hadoop.fs.azurebfs.sas.FixedSASTokenProvider\")\n",
    "spark.conf.set(\"fs.azure.sas.fixed.token.awdedatalake.dfs.core.windows.net\", \"sv=2024-11-04&ss=b&srt=sco&sp=rwdlacx&se=2025-05-07T16:04:32Z&st=2025-05-04T08:04:32Z&spr=https&sig=RXOct57bo036UbcRjJOWBMKOQV2F%2FO%2BaXfRGisYKlys%3D\")"
   ]
  },
  {
   "cell_type": "markdown",
   "metadata": {
    "application/vnd.databricks.v1+cell": {
     "cellMetadata": {
      "byteLimit": 2048000,
      "rowLimit": 10000
     },
     "inputWidgets": {},
     "nuid": "338790f1-20e6-4d32-973d-826efa5fc8b9",
     "showTitle": false,
     "tableResultSettingsMap": {},
     "title": ""
    }
   },
   "source": [
    "#### Reading Data"
   ]
  },
  {
   "cell_type": "code",
   "execution_count": 0,
   "metadata": {
    "application/vnd.databricks.v1+cell": {
     "cellMetadata": {
      "byteLimit": 2048000,
      "rowLimit": 10000
     },
     "inputWidgets": {},
     "nuid": "fcc73821-34ae-4f4e-80ba-eb2deeb2fd7d",
     "showTitle": false,
     "tableResultSettingsMap": {},
     "title": ""
    }
   },
   "outputs": [],
   "source": [
    "# Read Data\n",
    "\n",
    "df_cal = spark.read.format('csv')\\\n",
    "              .option(\"inferSchema\", \"true\")\\\n",
    "              .option(\"header\", \"true\")\\\n",
    "              .load('abfss://bronze@awdedatalake.dfs.core.windows.net/AdventureWorks_Calendar')"
   ]
  },
  {
   "cell_type": "code",
   "execution_count": 0,
   "metadata": {
    "application/vnd.databricks.v1+cell": {
     "cellMetadata": {
      "byteLimit": 2048000,
      "rowLimit": 10000
     },
     "inputWidgets": {},
     "nuid": "f5a100e9-7a14-45a3-bce6-514fb7a3e567",
     "showTitle": false,
     "tableResultSettingsMap": {},
     "title": ""
    }
   },
   "outputs": [],
   "source": [
    "df_cust = spark.read.format('csv')\\\n",
    "              .option(\"inferSchema\", \"true\")\\\n",
    "              .option(\"header\", \"true\")\\\n",
    "              .load('abfss://bronze@awdedatalake.dfs.core.windows.net/AdventureWorks_Customers')"
   ]
  },
  {
   "cell_type": "code",
   "execution_count": 0,
   "metadata": {
    "application/vnd.databricks.v1+cell": {
     "cellMetadata": {
      "byteLimit": 2048000,
      "rowLimit": 10000
     },
     "inputWidgets": {},
     "nuid": "6086b660-8651-47d4-aa7e-b56ea101fdca",
     "showTitle": false,
     "tableResultSettingsMap": {},
     "title": ""
    }
   },
   "outputs": [],
   "source": [
    "df_cat = spark.read.format('csv')\\\n",
    "              .option(\"inferSchema\", \"true\")\\\n",
    "              .option(\"header\", \"true\")\\\n",
    "              .load('abfss://bronze@awdedatalake.dfs.core.windows.net/AdventureWorks_Product_Categories')"
   ]
  },
  {
   "cell_type": "code",
   "execution_count": 0,
   "metadata": {
    "application/vnd.databricks.v1+cell": {
     "cellMetadata": {
      "byteLimit": 2048000,
      "rowLimit": 10000
     },
     "inputWidgets": {},
     "nuid": "1117e423-6bea-48b3-8550-d3c4a8d89c82",
     "showTitle": false,
     "tableResultSettingsMap": {},
     "title": ""
    }
   },
   "outputs": [],
   "source": [
    "df_product = spark.read.format('csv')\\\n",
    "              .option(\"inferSchema\", \"true\")\\\n",
    "              .option(\"header\", \"true\")\\\n",
    "              .load('abfss://bronze@awdedatalake.dfs.core.windows.net/AdventureWorks_Products')"
   ]
  },
  {
   "cell_type": "code",
   "execution_count": 0,
   "metadata": {
    "application/vnd.databricks.v1+cell": {
     "cellMetadata": {
      "byteLimit": 2048000,
      "rowLimit": 10000
     },
     "inputWidgets": {},
     "nuid": "9ddff20f-a140-43df-850d-2de7ba322322",
     "showTitle": false,
     "tableResultSettingsMap": {},
     "title": ""
    }
   },
   "outputs": [],
   "source": [
    "df_ret = spark.read.format('csv')\\\n",
    "              .option(\"inferSchema\", \"true\")\\\n",
    "              .option(\"header\", \"true\")\\\n",
    "              .load('abfss://bronze@awdedatalake.dfs.core.windows.net/AdventureWorks_Returns')"
   ]
  },
  {
   "cell_type": "code",
   "execution_count": 0,
   "metadata": {
    "application/vnd.databricks.v1+cell": {
     "cellMetadata": {
      "byteLimit": 2048000,
      "rowLimit": 10000
     },
     "inputWidgets": {},
     "nuid": "ee77d345-ffa1-41d5-9af0-8dcd9a1b3238",
     "showTitle": false,
     "tableResultSettingsMap": {},
     "title": ""
    }
   },
   "outputs": [],
   "source": [
    "df_sales15 = spark.read.format('csv')\\\n",
    "              .option(\"inferSchema\", \"true\")\\\n",
    "              .option(\"header\", \"true\")\\\n",
    "              .load('abfss://bronze@awdedatalake.dfs.core.windows.net/AdventureWorks_Sales_2015')"
   ]
  },
  {
   "cell_type": "code",
   "execution_count": 0,
   "metadata": {
    "application/vnd.databricks.v1+cell": {
     "cellMetadata": {
      "byteLimit": 2048000,
      "rowLimit": 10000
     },
     "inputWidgets": {},
     "nuid": "a9708d59-3b46-4494-96e3-20ce6cb0a13a",
     "showTitle": false,
     "tableResultSettingsMap": {},
     "title": ""
    }
   },
   "outputs": [],
   "source": [
    "df_sales16 = spark.read.format('csv')\\\n",
    "              .option(\"inferSchema\", \"true\")\\\n",
    "              .option(\"header\", \"true\")\\\n",
    "              .load('abfss://bronze@awdedatalake.dfs.core.windows.net/AdventureWorks_Sales_2016')"
   ]
  },
  {
   "cell_type": "code",
   "execution_count": 0,
   "metadata": {
    "application/vnd.databricks.v1+cell": {
     "cellMetadata": {
      "byteLimit": 2048000,
      "rowLimit": 10000
     },
     "inputWidgets": {},
     "nuid": "45e9d0ef-5c17-47bc-876b-0baaeb2a8580",
     "showTitle": false,
     "tableResultSettingsMap": {},
     "title": ""
    }
   },
   "outputs": [],
   "source": [
    "df_sales17 = spark.read.format('csv')\\\n",
    "              .option(\"inferSchema\", \"true\")\\\n",
    "              .option(\"header\", \"true\")\\\n",
    "              .load('abfss://bronze@awdedatalake.dfs.core.windows.net/AdventureWorks_Sales_2017')"
   ]
  },
  {
   "cell_type": "code",
   "execution_count": 0,
   "metadata": {
    "application/vnd.databricks.v1+cell": {
     "cellMetadata": {
      "byteLimit": 2048000,
      "rowLimit": 10000
     },
     "inputWidgets": {},
     "nuid": "6adf2639-fc1f-40d1-9fd7-ff73c6ecc3f6",
     "showTitle": false,
     "tableResultSettingsMap": {},
     "title": ""
    }
   },
   "outputs": [],
   "source": [
    "df_sales = spark.read.format('csv')\\\n",
    "              .option(\"inferSchema\", \"true\")\\\n",
    "              .option(\"header\", \"true\")\\\n",
    "              .load('abfss://bronze@awdedatalake.dfs.core.windows.net/AdventureWorks_Sales*')"
   ]
  },
  {
   "cell_type": "code",
   "execution_count": 0,
   "metadata": {
    "application/vnd.databricks.v1+cell": {
     "cellMetadata": {
      "byteLimit": 2048000,
      "rowLimit": 10000
     },
     "inputWidgets": {},
     "nuid": "85154b54-c798-4164-bd7f-9e7ae3e362b1",
     "showTitle": false,
     "tableResultSettingsMap": {},
     "title": ""
    }
   },
   "outputs": [],
   "source": [
    "df_terr = spark.read.format('csv')\\\n",
    "              .option(\"inferSchema\", \"true\")\\\n",
    "              .option(\"header\", \"true\")\\\n",
    "              .load('abfss://bronze@awdedatalake.dfs.core.windows.net/AdventureWorks_Territories')"
   ]
  },
  {
   "cell_type": "code",
   "execution_count": 0,
   "metadata": {
    "application/vnd.databricks.v1+cell": {
     "cellMetadata": {
      "byteLimit": 2048000,
      "rowLimit": 10000
     },
     "inputWidgets": {},
     "nuid": "57b95b69-c5b0-4f79-8594-13092d1065d0",
     "showTitle": false,
     "tableResultSettingsMap": {},
     "title": ""
    }
   },
   "outputs": [],
   "source": [
    "df_subcat = spark.read.format('csv')\\\n",
    "              .option(\"inferSchema\", \"true\")\\\n",
    "              .option(\"header\", \"true\")\\\n",
    "              .load('abfss://bronze@awdedatalake.dfs.core.windows.net/Product_Subcategories')"
   ]
  },
  {
   "cell_type": "markdown",
   "metadata": {
    "application/vnd.databricks.v1+cell": {
     "cellMetadata": {
      "byteLimit": 2048000,
      "rowLimit": 10000
     },
     "inputWidgets": {},
     "nuid": "0f811d50-5d14-47c4-912b-f47968e1aab2",
     "showTitle": false,
     "tableResultSettingsMap": {},
     "title": ""
    }
   },
   "source": [
    "#### Transformations"
   ]
  },
  {
   "cell_type": "code",
   "execution_count": 0,
   "metadata": {
    "application/vnd.databricks.v1+cell": {
     "cellMetadata": {
      "byteLimit": 2048000,
      "rowLimit": 10000
     },
     "inputWidgets": {},
     "nuid": "676c98ec-2091-4ce3-bb96-665bd45a1d92",
     "showTitle": false,
     "tableResultSettingsMap": {},
     "title": ""
    }
   },
   "outputs": [],
   "source": [
    "from pyspark.sql.functions import *\n",
    "from pyspark.sql.types import *"
   ]
  },
  {
   "cell_type": "markdown",
   "metadata": {
    "application/vnd.databricks.v1+cell": {
     "cellMetadata": {
      "byteLimit": 2048000,
      "rowLimit": 10000
     },
     "inputWidgets": {},
     "nuid": "a854ef90-e4cc-4636-850c-d06e9a2b2f50",
     "showTitle": false,
     "tableResultSettingsMap": {},
     "title": ""
    }
   },
   "source": [
    "##### Calendar Data"
   ]
  },
  {
   "cell_type": "code",
   "execution_count": 0,
   "metadata": {
    "application/vnd.databricks.v1+cell": {
     "cellMetadata": {
      "byteLimit": 2048000,
      "rowLimit": 10000
     },
     "inputWidgets": {},
     "nuid": "d6102946-b591-4c48-bdef-0a21917eec77",
     "showTitle": false,
     "tableResultSettingsMap": {},
     "title": ""
    }
   },
   "outputs": [],
   "source": [
    "# Transformation 1 - Adding new cols to the Calendar df: Year, Quarter, Month, Week, Day\n",
    "\n",
    "df_cal = df_cal.withColumn('Year', year(col('Date')))\\\n",
    "               .withColumn('Quarter', quarter(col('Date')))\\\n",
    "               .withColumn('Month', month(col('Date')))\\\n",
    "               .withColumn('Week', weekofyear(col('Date')))\\\n",
    "               .withColumn('Day', dayofmonth(col('Date')))\n",
    "\n",
    "# df_cal.display()\n",
    "\n",
    "df_cal.write.format('parquet')\\\n",
    "            .mode('overwrite')\\\n",
    "            .option('path', 'abfss://silver@awdedatalake.dfs.core.windows.net/AdventureWorks_Calendar')\\\n",
    "            .save()"
   ]
  },
  {
   "cell_type": "markdown",
   "metadata": {
    "application/vnd.databricks.v1+cell": {
     "cellMetadata": {
      "byteLimit": 2048000,
      "rowLimit": 10000
     },
     "inputWidgets": {},
     "nuid": "3194e5c3-92b5-4204-899d-987a92e64e68",
     "showTitle": false,
     "tableResultSettingsMap": {},
     "title": ""
    }
   },
   "source": [
    "##### Customer Data"
   ]
  },
  {
   "cell_type": "code",
   "execution_count": 0,
   "metadata": {
    "application/vnd.databricks.v1+cell": {
     "cellMetadata": {
      "byteLimit": 2048000,
      "rowLimit": 10000
     },
     "inputWidgets": {},
     "nuid": "4c85affc-791d-4ff9-a36b-b96652851387",
     "showTitle": false,
     "tableResultSettingsMap": {},
     "title": ""
    }
   },
   "outputs": [],
   "source": [
    "# Transformation 2 - Adding new cols to the Customer df: FullName\n",
    "\n",
    "# df_cust = df_cust.withColumn('FullName', concat(col('Prefix'), lit(' '), col('FirstName'), lit(' '), col('LastName'))).display()\n",
    "\n",
    "df_cust = df_cust.withColumn('FullName', concat_ws(' ', col('Prefix'), col('FirstName'), col('LastName')))\n",
    "\n",
    "df_cust.write.format('parquet')\\\n",
    "            .mode('overwrite')\\\n",
    "            .option('path', 'abfss://silver@awdedatalake.dfs.core.windows.net/AdventureWorks_Customer')\\\n",
    "            .save()"
   ]
  },
  {
   "cell_type": "markdown",
   "metadata": {
    "application/vnd.databricks.v1+cell": {
     "cellMetadata": {
      "byteLimit": 2048000,
      "rowLimit": 10000
     },
     "inputWidgets": {},
     "nuid": "acb5a496-dceb-42e5-aac8-81f8680d4c1f",
     "showTitle": false,
     "tableResultSettingsMap": {},
     "title": ""
    }
   },
   "source": [
    "##### Product_Category Data"
   ]
  },
  {
   "cell_type": "code",
   "execution_count": 0,
   "metadata": {
    "application/vnd.databricks.v1+cell": {
     "cellMetadata": {
      "byteLimit": 2048000,
      "rowLimit": 10000
     },
     "inputWidgets": {},
     "nuid": "eeff326f-6bfd-408c-9c66-25d49b4f564a",
     "showTitle": false,
     "tableResultSettingsMap": {},
     "title": ""
    }
   },
   "outputs": [],
   "source": [
    "df_cat = df_cat.write.format('parquet')\\\n",
    "                    .mode('overwrite')\\\n",
    "                    .option('path', 'abfss://silver@awdedatalake.dfs.core.windows.net/AdventureWorks_Product_Categories')\\\n",
    "                    .save()"
   ]
  },
  {
   "cell_type": "markdown",
   "metadata": {
    "application/vnd.databricks.v1+cell": {
     "cellMetadata": {
      "byteLimit": 2048000,
      "rowLimit": 10000
     },
     "inputWidgets": {},
     "nuid": "874ec9e5-7325-4f20-9dbf-3fc4afe02402",
     "showTitle": false,
     "tableResultSettingsMap": {},
     "title": ""
    }
   },
   "source": [
    "##### Products Data"
   ]
  },
  {
   "cell_type": "code",
   "execution_count": 0,
   "metadata": {
    "application/vnd.databricks.v1+cell": {
     "cellMetadata": {
      "byteLimit": 2048000,
      "rowLimit": 10000
     },
     "inputWidgets": {},
     "nuid": "8f2a2f76-e4cd-4d68-b98c-a60257073b24",
     "showTitle": false,
     "tableResultSettingsMap": {},
     "title": ""
    }
   },
   "outputs": [],
   "source": [
    "# Transformation 3 - Updating the Product df: ProductSKU, ProductName\n",
    "\n",
    "df_product = df_product.withColumn('ProductSKU', split(col('ProductSKU'), '-')[0])\\\n",
    "                    .withColumn('ProductName', split(col('ProductName'),' ')[0])\n",
    "\n",
    "\n",
    "df_product.write.format('parquet')\\\n",
    "                .mode('overwrite')\\\n",
    "                .option('path', 'abfss://silver@awdedatalake.dfs.core.windows.net/AdventureWorks_Products')\\\n",
    "                .save()"
   ]
  },
  {
   "cell_type": "markdown",
   "metadata": {
    "application/vnd.databricks.v1+cell": {
     "cellMetadata": {
      "byteLimit": 2048000,
      "rowLimit": 10000
     },
     "inputWidgets": {},
     "nuid": "655b1554-a225-4a67-af17-5031387bf8a6",
     "showTitle": false,
     "tableResultSettingsMap": {},
     "title": ""
    }
   },
   "source": [
    "##### Returns Data"
   ]
  },
  {
   "cell_type": "code",
   "execution_count": 0,
   "metadata": {
    "application/vnd.databricks.v1+cell": {
     "cellMetadata": {
      "byteLimit": 2048000,
      "rowLimit": 10000
     },
     "inputWidgets": {},
     "nuid": "1774681d-1deb-4087-b737-40d227173111",
     "showTitle": false,
     "tableResultSettingsMap": {},
     "title": ""
    }
   },
   "outputs": [],
   "source": [
    "df_ret.write.format('parquet')\\\n",
    "                .mode('overwrite')\\\n",
    "                .option('path', 'abfss://silver@awdedatalake.dfs.core.windows.net/AdventureWorks_Returns')\\\n",
    "                .save()"
   ]
  },
  {
   "cell_type": "markdown",
   "metadata": {
    "application/vnd.databricks.v1+cell": {
     "cellMetadata": {
      "byteLimit": 2048000,
      "rowLimit": 10000
     },
     "inputWidgets": {},
     "nuid": "2a644e57-c45a-4779-a61e-5935d232aa4e",
     "showTitle": false,
     "tableResultSettingsMap": {},
     "title": ""
    }
   },
   "source": [
    "##### Territories Data"
   ]
  },
  {
   "cell_type": "code",
   "execution_count": 0,
   "metadata": {
    "application/vnd.databricks.v1+cell": {
     "cellMetadata": {
      "byteLimit": 2048000,
      "rowLimit": 10000
     },
     "inputWidgets": {},
     "nuid": "53854423-12f5-4c41-8796-6b0948780a50",
     "showTitle": false,
     "tableResultSettingsMap": {},
     "title": ""
    }
   },
   "outputs": [],
   "source": [
    "df_terr.write.format('parquet')\\\n",
    "                .mode('overwrite')\\\n",
    "                .option('path', 'abfss://silver@awdedatalake.dfs.core.windows.net/AdventureWorks_Territories')\\\n",
    "                .save()"
   ]
  },
  {
   "cell_type": "markdown",
   "metadata": {
    "application/vnd.databricks.v1+cell": {
     "cellMetadata": {
      "byteLimit": 2048000,
      "rowLimit": 10000
     },
     "inputWidgets": {},
     "nuid": "f48b626e-bdfc-4850-92c7-4ba14256b764",
     "showTitle": false,
     "tableResultSettingsMap": {},
     "title": ""
    }
   },
   "source": [
    "##### Product_Subcategories Data"
   ]
  },
  {
   "cell_type": "code",
   "execution_count": 0,
   "metadata": {
    "application/vnd.databricks.v1+cell": {
     "cellMetadata": {
      "byteLimit": 2048000,
      "rowLimit": 10000
     },
     "inputWidgets": {},
     "nuid": "ad8247ee-6d7a-4d4b-8efc-c2cb1a61d12a",
     "showTitle": false,
     "tableResultSettingsMap": {},
     "title": ""
    }
   },
   "outputs": [],
   "source": [
    "df_subcat = df_subcat.write.format('parquet')\\\n",
    "                    .mode('overwrite')\\\n",
    "                    .option('path', 'abfss://silver@awdedatalake.dfs.core.windows.net/Product_Subcategories')\\\n",
    "                    .save()"
   ]
  },
  {
   "cell_type": "markdown",
   "metadata": {
    "application/vnd.databricks.v1+cell": {
     "cellMetadata": {
      "byteLimit": 2048000,
      "rowLimit": 10000
     },
     "inputWidgets": {},
     "nuid": "80030025-7870-4e8a-b3f2-801be8da9c43",
     "showTitle": false,
     "tableResultSettingsMap": {},
     "title": ""
    }
   },
   "source": [
    "##### Sales Data"
   ]
  },
  {
   "cell_type": "code",
   "execution_count": 0,
   "metadata": {
    "application/vnd.databricks.v1+cell": {
     "cellMetadata": {
      "byteLimit": 2048000,
      "rowLimit": 10000
     },
     "inputWidgets": {},
     "nuid": "19779f74-d5c4-47b9-82c1-3370c8c85706",
     "showTitle": false,
     "tableResultSettingsMap": {},
     "title": ""
    }
   },
   "outputs": [],
   "source": [
    "# Transformation 4 - Updating the Sales df: Update StockDate to TS, Replace S with T for OrderNumber col, New Col - Multiply OrderLineItem and OrderQuantity\n",
    "\n",
    "df_sales = df_sales.withColumn('StockDate', to_timestamp(col('StockDate')))\\\n",
    "                   .withColumn('OrderNumber', regexp_replace(col('OrderNumber'), 'S', 'T'))\\\n",
    "                   .withColumn('Multiply', col('OrderLineItem') * col('OrderQuantity'))\n",
    "\n",
    "df_sales.write.format('parquet')\\\n",
    "            .mode('overwrite')\\\n",
    "            .option('path', 'abfss://silver@awdedatalake.dfs.core.windows.net/AdventureWorks_Sales')\\\n",
    "            .save()\n"
   ]
  },
  {
   "cell_type": "markdown",
   "metadata": {
    "application/vnd.databricks.v1+cell": {
     "cellMetadata": {
      "byteLimit": 2048000,
      "rowLimit": 10000
     },
     "inputWidgets": {},
     "nuid": "39c5368d-240a-486b-b0d3-3e7b3455650f",
     "showTitle": false,
     "tableResultSettingsMap": {},
     "title": ""
    }
   },
   "source": [
    "##### Sales Analysis"
   ]
  },
  {
   "cell_type": "code",
   "execution_count": 0,
   "metadata": {
    "application/vnd.databricks.v1+cell": {
     "cellMetadata": {
      "byteLimit": 2048000,
      "rowLimit": 10000
     },
     "inputWidgets": {},
     "nuid": "d2864053-db8f-4866-aa77-508ce1580228",
     "showTitle": false,
     "tableResultSettingsMap": {},
     "title": ""
    }
   },
   "outputs": [
    {
     "output_type": "display_data",
     "data": {
      "text/html": [
       "<style scoped>\n",
       "  .table-result-container {\n",
       "    max-height: 300px;\n",
       "    overflow: auto;\n",
       "  }\n",
       "  table, th, td {\n",
       "    border: 1px solid black;\n",
       "    border-collapse: collapse;\n",
       "  }\n",
       "  th, td {\n",
       "    padding: 5px;\n",
       "  }\n",
       "  th {\n",
       "    text-align: left;\n",
       "  }\n",
       "</style><div class='table-result-container'><table class='table-result'><thead style='background-color: white'><tr><th>OrderDate</th><th>total_orders_per_day</th></tr></thead><tbody><tr><td>2017-01-06</td><td>151</td></tr><tr><td>2017-01-27</td><td>142</td></tr><tr><td>2017-02-26</td><td>119</td></tr><tr><td>2017-01-24</td><td>173</td></tr><tr><td>2017-06-29</td><td>172</td></tr><tr><td>2017-02-16</td><td>124</td></tr><tr><td>2017-04-09</td><td>140</td></tr><tr><td>2017-02-28</td><td>162</td></tr><tr><td>2017-03-28</td><td>149</td></tr><tr><td>2017-06-30</td><td>136</td></tr><tr><td>2017-01-30</td><td>145</td></tr><tr><td>2017-05-11</td><td>164</td></tr><tr><td>2017-02-10</td><td>168</td></tr><tr><td>2017-04-25</td><td>176</td></tr><tr><td>2017-03-19</td><td>152</td></tr><tr><td>2017-05-26</td><td>175</td></tr><tr><td>2017-01-04</td><td>138</td></tr><tr><td>2017-06-28</td><td>215</td></tr><tr><td>2017-04-03</td><td>246</td></tr><tr><td>2017-06-14</td><td>258</td></tr><tr><td>2017-04-29</td><td>163</td></tr><tr><td>2017-02-07</td><td>161</td></tr><tr><td>2017-01-10</td><td>192</td></tr><tr><td>2017-03-17</td><td>138</td></tr><tr><td>2017-05-10</td><td>150</td></tr><tr><td>2017-01-21</td><td>131</td></tr><tr><td>2017-05-09</td><td>191</td></tr><tr><td>2017-04-07</td><td>160</td></tr><tr><td>2017-06-08</td><td>171</td></tr><tr><td>2017-01-05</td><td>141</td></tr><tr><td>2017-06-01</td><td>122</td></tr><tr><td>2017-04-02</td><td>168</td></tr><tr><td>2017-06-09</td><td>182</td></tr><tr><td>2017-04-11</td><td>137</td></tr><tr><td>2017-04-12</td><td>156</td></tr><tr><td>2017-01-13</td><td>123</td></tr><tr><td>2017-02-08</td><td>164</td></tr><tr><td>2017-03-13</td><td>191</td></tr><tr><td>2017-04-05</td><td>122</td></tr><tr><td>2017-04-20</td><td>165</td></tr><tr><td>2017-06-15</td><td>195</td></tr><tr><td>2017-02-25</td><td>103</td></tr><tr><td>2017-05-21</td><td>185</td></tr><tr><td>2017-03-16</td><td>107</td></tr><tr><td>2017-04-27</td><td>176</td></tr><tr><td>2017-05-27</td><td>148</td></tr><tr><td>2017-02-01</td><td>179</td></tr><tr><td>2017-01-26</td><td>156</td></tr><tr><td>2017-01-01</td><td>98</td></tr><tr><td>2017-06-19</td><td>194</td></tr><tr><td>2017-04-18</td><td>186</td></tr><tr><td>2017-01-20</td><td>195</td></tr><tr><td>2017-06-13</td><td>151</td></tr><tr><td>2017-06-25</td><td>189</td></tr><tr><td>2017-03-05</td><td>146</td></tr><tr><td>2017-03-21</td><td>177</td></tr><tr><td>2017-06-07</td><td>222</td></tr><tr><td>2017-06-02</td><td>137</td></tr><tr><td>2017-03-24</td><td>158</td></tr><tr><td>2017-04-30</td><td>169</td></tr><tr><td>2017-01-11</td><td>162</td></tr><tr><td>2017-02-12</td><td>163</td></tr><tr><td>2017-01-17</td><td>123</td></tr><tr><td>2017-02-24</td><td>152</td></tr><tr><td>2017-06-18</td><td>163</td></tr><tr><td>2017-05-28</td><td>170</td></tr><tr><td>2017-05-05</td><td>204</td></tr><tr><td>2017-05-19</td><td>171</td></tr><tr><td>2017-03-20</td><td>163</td></tr><tr><td>2017-04-15</td><td>181</td></tr><tr><td>2017-06-06</td><td>216</td></tr><tr><td>2017-01-19</td><td>131</td></tr><tr><td>2017-01-25</td><td>121</td></tr><tr><td>2017-04-26</td><td>153</td></tr><tr><td>2017-02-23</td><td>137</td></tr><tr><td>2017-03-30</td><td>157</td></tr><tr><td>2017-02-06</td><td>156</td></tr><tr><td>2017-03-29</td><td>136</td></tr><tr><td>2017-01-23</td><td>113</td></tr><tr><td>2017-01-08</td><td>168</td></tr><tr><td>2017-04-08</td><td>173</td></tr><tr><td>2017-06-17</td><td>215</td></tr><tr><td>2017-03-11</td><td>158</td></tr><tr><td>2017-03-06</td><td>137</td></tr><tr><td>2017-04-23</td><td>178</td></tr><tr><td>2017-02-22</td><td>125</td></tr><tr><td>2017-03-26</td><td>131</td></tr><tr><td>2017-05-07</td><td>188</td></tr><tr><td>2017-01-07</td><td>152</td></tr><tr><td>2017-02-05</td><td>172</td></tr><tr><td>2017-01-12</td><td>121</td></tr><tr><td>2017-03-18</td><td>142</td></tr><tr><td>2017-02-17</td><td>194</td></tr><tr><td>2017-01-31</td><td>148</td></tr><tr><td>2017-02-03</td><td>189</td></tr><tr><td>2017-05-22</td><td>152</td></tr><tr><td>2017-06-22</td><td>191</td></tr><tr><td>2017-06-03</td><td>177</td></tr><tr><td>2017-01-16</td><td>171</td></tr><tr><td>2017-04-22</td><td>161</td></tr><tr><td>2017-06-10</td><td>151</td></tr><tr><td>2017-06-11</td><td>233</td></tr><tr><td>2017-03-07</td><td>159</td></tr><tr><td>2017-05-14</td><td>186</td></tr><tr><td>2017-05-30</td><td>162</td></tr><tr><td>2017-06-21</td><td>218</td></tr><tr><td>2017-02-27</td><td>174</td></tr><tr><td>2017-03-27</td><td>185</td></tr><tr><td>2017-02-18</td><td>195</td></tr><tr><td>2017-05-08</td><td>194</td></tr><tr><td>2017-05-06</td><td>168</td></tr><tr><td>2017-06-26</td><td>187</td></tr><tr><td>2017-01-09</td><td>117</td></tr><tr><td>2017-06-16</td><td>133</td></tr><tr><td>2017-05-23</td><td>158</td></tr><tr><td>2017-04-06</td><td>172</td></tr><tr><td>2017-03-10</td><td>159</td></tr><tr><td>2017-05-03</td><td>172</td></tr><tr><td>2017-05-04</td><td>191</td></tr><tr><td>2017-02-21</td><td>167</td></tr><tr><td>2017-03-03</td><td>129</td></tr><tr><td>2017-03-23</td><td>155</td></tr><tr><td>2017-05-02</td><td>158</td></tr><tr><td>2017-03-22</td><td>141</td></tr><tr><td>2017-06-05</td><td>187</td></tr><tr><td>2017-05-17</td><td>170</td></tr><tr><td>2017-04-24</td><td>167</td></tr><tr><td>2017-06-23</td><td>161</td></tr><tr><td>2017-01-22</td><td>126</td></tr><tr><td>2017-02-02</td><td>148</td></tr><tr><td>2017-03-02</td><td>118</td></tr><tr><td>2017-03-12</td><td>167</td></tr><tr><td>2017-05-24</td><td>148</td></tr><tr><td>2017-01-15</td><td>156</td></tr><tr><td>2017-05-25</td><td>189</td></tr><tr><td>2017-05-18</td><td>136</td></tr><tr><td>2017-05-12</td><td>199</td></tr><tr><td>2017-03-31</td><td>131</td></tr><tr><td>2017-05-20</td><td>193</td></tr><tr><td>2017-01-02</td><td>135</td></tr><tr><td>2017-01-28</td><td>181</td></tr><tr><td>2017-03-09</td><td>179</td></tr><tr><td>2017-02-20</td><td>237</td></tr><tr><td>2017-01-18</td><td>159</td></tr><tr><td>2017-02-19</td><td>165</td></tr><tr><td>2017-03-04</td><td>144</td></tr><tr><td>2017-02-15</td><td>155</td></tr><tr><td>2017-02-13</td><td>150</td></tr><tr><td>2017-04-16</td><td>148</td></tr><tr><td>2017-01-03</td><td>138</td></tr><tr><td>2017-05-29</td><td>157</td></tr><tr><td>2017-04-19</td><td>218</td></tr><tr><td>2017-04-13</td><td>108</td></tr><tr><td>2017-04-04</td><td>156</td></tr><tr><td>2017-03-01</td><td>306</td></tr><tr><td>2017-03-25</td><td>144</td></tr><tr><td>2017-02-11</td><td>124</td></tr><tr><td>2017-06-12</td><td>153</td></tr><tr><td>2017-04-28</td><td>205</td></tr><tr><td>2017-05-31</td><td>192</td></tr><tr><td>2017-02-09</td><td>138</td></tr><tr><td>2017-05-16</td><td>190</td></tr><tr><td>2017-03-14</td><td>137</td></tr><tr><td>2017-03-08</td><td>136</td></tr><tr><td>2017-06-04</td><td>148</td></tr><tr><td>2017-04-17</td><td>168</td></tr><tr><td>2017-04-10</td><td>161</td></tr><tr><td>2017-06-27</td><td>172</td></tr><tr><td>2017-01-14</td><td>143</td></tr><tr><td>2017-05-01</td><td>220</td></tr><tr><td>2017-04-01</td><td>170</td></tr><tr><td>2017-06-24</td><td>196</td></tr><tr><td>2017-05-15</td><td>171</td></tr><tr><td>2017-02-14</td><td>135</td></tr><tr><td>2017-01-29</td><td>142</td></tr><tr><td>2017-05-13</td><td>164</td></tr><tr><td>2017-02-04</td><td>128</td></tr><tr><td>2017-03-15</td><td>141</td></tr><tr><td>2017-06-20</td><td>185</td></tr><tr><td>2017-04-14</td><td>166</td></tr><tr><td>2017-04-21</td><td>137</td></tr><tr><td>2016-03-01</td><td>8</td></tr><tr><td>2016-04-25</td><td>15</td></tr><tr><td>2016-05-03</td><td>15</td></tr><tr><td>2016-07-26</td><td>44</td></tr><tr><td>2016-08-15</td><td>93</td></tr><tr><td>2016-08-31</td><td>126</td></tr><tr><td>2016-10-03</td><td>130</td></tr><tr><td>2016-01-28</td><td>5</td></tr><tr><td>2016-07-17</td><td>39</td></tr><tr><td>2016-11-08</td><td>101</td></tr><tr><td>2016-12-19</td><td>169</td></tr><tr><td>2016-07-03</td><td>64</td></tr><tr><td>2016-08-23</td><td>89</td></tr><tr><td>2016-02-04</td><td>17</td></tr><tr><td>2016-05-26</td><td>10</td></tr><tr><td>2016-06-02</td><td>13</td></tr><tr><td>2016-01-13</td><td>12</td></tr><tr><td>2016-09-23</td><td>149</td></tr><tr><td>2016-01-01</td><td>8</td></tr><tr><td>2016-04-22</td><td>6</td></tr><tr><td>2016-06-16</td><td>7</td></tr><tr><td>2016-09-30</td><td>126</td></tr><tr><td>2016-01-19</td><td>5</td></tr><tr><td>2016-05-09</td><td>8</td></tr><tr><td>2016-07-19</td><td>37</td></tr><tr><td>2016-09-15</td><td>128</td></tr><tr><td>2016-02-08</td><td>11</td></tr><tr><td>2016-10-07</td><td>118</td></tr><tr><td>2016-12-12</td><td>188</td></tr><tr><td>2016-05-23</td><td>12</td></tr><tr><td>2016-09-26</td><td>114</td></tr><tr><td>2016-12-13</td><td>189</td></tr><tr><td>2016-02-03</td><td>9</td></tr><tr><td>2016-03-25</td><td>4</td></tr><tr><td>2016-08-26</td><td>122</td></tr><tr><td>2016-08-01</td><td>105</td></tr><tr><td>2016-09-09</td><td>153</td></tr><tr><td>2016-06-17</td><td>9</td></tr><tr><td>2016-09-27</td><td>145</td></tr><tr><td>2016-08-16</td><td>132</td></tr><tr><td>2016-10-23</td><td>142</td></tr><tr><td>2016-04-30</td><td>11</td></tr><tr><td>2016-07-21</td><td>21</td></tr><tr><td>2016-05-27</td><td>10</td></tr><tr><td>2016-07-02</td><td>37</td></tr><tr><td>2016-08-06</td><td>106</td></tr><tr><td>2016-10-20</td><td>126</td></tr><tr><td>2016-05-07</td><td>9</td></tr><tr><td>2016-04-26</td><td>9</td></tr><tr><td>2016-05-13</td><td>9</td></tr><tr><td>2016-05-31</td><td>16</td></tr><tr><td>2016-08-05</td><td>90</td></tr><tr><td>2016-02-22</td><td>11</td></tr><tr><td>2016-10-24</td><td>101</td></tr><tr><td>2016-10-27</td><td>102</td></tr><tr><td>2016-11-14</td><td>152</td></tr><tr><td>2016-03-22</td><td>7</td></tr><tr><td>2016-08-20</td><td>99</td></tr><tr><td>2016-09-05</td><td>112</td></tr><tr><td>2016-05-21</td><td>10</td></tr><tr><td>2016-12-15</td><td>194</td></tr><tr><td>2016-05-11</td><td>11</td></tr><tr><td>2016-11-24</td><td>182</td></tr><tr><td>2016-06-22</td><td>6</td></tr><tr><td>2016-11-25</td><td>104</td></tr><tr><td>2016-11-30</td><td>152</td></tr><tr><td>2016-05-28</td><td>12</td></tr><tr><td>2016-06-19</td><td>13</td></tr><tr><td>2016-03-11</td><td>8</td></tr><tr><td>2016-03-27</td><td>3</td></tr><tr><td>2016-06-08</td><td>17</td></tr><tr><td>2016-11-19</td><td>148</td></tr><tr><td>2016-12-20</td><td>156</td></tr><tr><td>2016-12-21</td><td>157</td></tr><tr><td>2016-06-15</td><td>14</td></tr><tr><td>2016-07-31</td><td>46</td></tr><tr><td>2016-08-03</td><td>126</td></tr><tr><td>2016-04-04</td><td>12</td></tr><tr><td>2016-06-13</td><td>9</td></tr><tr><td>2016-01-11</td><td>7</td></tr><tr><td>2016-12-22</td><td>103</td></tr><tr><td>2016-03-14</td><td>9</td></tr><tr><td>2016-04-16</td><td>7</td></tr><tr><td>2016-04-18</td><td>11</td></tr><tr><td>2016-08-12</td><td>148</td></tr><tr><td>2016-09-22</td><td>126</td></tr><tr><td>2016-10-17</td><td>120</td></tr><tr><td>2016-08-19</td><td>149</td></tr><tr><td>2016-04-11</td><td>12</td></tr><tr><td>2016-09-14</td><td>129</td></tr><tr><td>2016-06-29</td><td>7</td></tr><tr><td>2016-03-03</td><td>6</td></tr><tr><td>2016-01-05</td><td>7</td></tr><tr><td>2016-01-06</td><td>2</td></tr><tr><td>2016-06-27</td><td>13</td></tr><tr><td>2016-04-29</td><td>7</td></tr><tr><td>2016-08-10</td><td>88</td></tr><tr><td>2016-10-30</td><td>121</td></tr><tr><td>2016-01-20</td><td>7</td></tr><tr><td>2016-05-05</td><td>14</td></tr><tr><td>2016-02-11</td><td>4</td></tr><tr><td>2016-04-19</td><td>7</td></tr><tr><td>2016-09-12</td><td>162</td></tr><tr><td>2016-10-06</td><td>185</td></tr><tr><td>2016-02-09</td><td>10</td></tr><tr><td>2016-04-14</td><td>7</td></tr><tr><td>2016-01-29</td><td>8</td></tr><tr><td>2016-01-26</td><td>9</td></tr><tr><td>2016-08-13</td><td>129</td></tr><tr><td>2016-11-15</td><td>147</td></tr><tr><td>2016-02-15</td><td>11</td></tr><tr><td>2016-09-18</td><td>148</td></tr><tr><td>2016-12-03</td><td>178</td></tr><tr><td>2016-03-20</td><td>11</td></tr><tr><td>2016-07-13</td><td>44</td></tr><tr><td>2016-09-08</td><td>139</td></tr><tr><td>2016-10-21</td><td>125</td></tr><tr><td>2016-05-08</td><td>15</td></tr><tr><td>2016-09-01</td><td>83</td></tr><tr><td>2016-02-25</td><td>15</td></tr><tr><td>2016-03-16</td><td>7</td></tr><tr><td>2016-04-08</td><td>13</td></tr><tr><td>2016-12-25</td><td>163</td></tr><tr><td>2016-11-21</td><td>147</td></tr><tr><td>2016-12-31</td><td>195</td></tr><tr><td>2016-09-25</td><td>100</td></tr><tr><td>2016-03-19</td><td>11</td></tr><tr><td>2016-08-30</td><td>131</td></tr><tr><td>2016-10-29</td><td>109</td></tr><tr><td>2016-04-02</td><td>13</td></tr><tr><td>2016-08-07</td><td>140</td></tr><tr><td>2016-11-06</td><td>125</td></tr><tr><td>2016-10-26</td><td>154</td></tr><tr><td>2016-03-31</td><td>10</td></tr><tr><td>2016-09-02</td><td>140</td></tr><tr><td>2016-02-18</td><td>13</td></tr><tr><td>2016-07-10</td><td>34</td></tr><tr><td>2016-07-16</td><td>40</td></tr><tr><td>2016-12-30</td><td>158</td></tr><tr><td>2016-05-12</td><td>13</td></tr><tr><td>2016-12-17</td><td>165</td></tr><tr><td>2016-07-24</td><td>85</td></tr><tr><td>2016-02-28</td><td>8</td></tr><tr><td>2016-12-02</td><td>172</td></tr><tr><td>2016-01-24</td><td>7</td></tr><tr><td>2016-08-27</td><td>112</td></tr><tr><td>2016-10-09</td><td>142</td></tr><tr><td>2016-05-01</td><td>13</td></tr><tr><td>2016-08-18</td><td>137</td></tr><tr><td>2016-11-07</td><td>153</td></tr><tr><td>2016-12-18</td><td>182</td></tr><tr><td>2016-02-12</td><td>10</td></tr><tr><td>2016-04-20</td><td>9</td></tr><tr><td>2016-09-16</td><td>102</td></tr><tr><td>2016-11-04</td><td>136</td></tr><tr><td>2016-12-29</td><td>181</td></tr><tr><td>2016-03-02</td><td>10</td></tr><tr><td>2016-08-04</td><td>99</td></tr><tr><td>2016-12-27</td><td>131</td></tr><tr><td>2016-06-05</td><td>7</td></tr><tr><td>2016-06-14</td><td>11</td></tr><tr><td>2016-12-05</td><td>167</td></tr><tr><td>2016-04-13</td><td>18</td></tr><tr><td>2016-09-13</td><td>168</td></tr><tr><td>2016-10-14</td><td>143</td></tr><tr><td>2016-04-09</td><td>10</td></tr><tr><td>2016-07-29</td><td>64</td></tr><tr><td>2016-08-21</td><td>115</td></tr><tr><td>2016-08-22</td><td>62</td></tr><tr><td>2016-09-24</td><td>107</td></tr><tr><td>2016-05-02</td><td>11</td></tr><tr><td>2016-07-08</td><td>38</td></tr><tr><td>2016-08-29</td><td>147</td></tr><tr><td>2016-01-03</td><td>7</td></tr><tr><td>2016-07-04</td><td>58</td></tr><tr><td>2016-10-11</td><td>117</td></tr><tr><td>2016-03-24</td><td>5</td></tr><tr><td>2016-08-14</td><td>128</td></tr><tr><td>2016-11-23</td><td>116</td></tr><tr><td>2016-07-12</td><td>47</td></tr><tr><td>2016-12-11</td><td>178</td></tr><tr><td>2016-01-21</td><td>7</td></tr><tr><td>2016-04-17</td><td>16</td></tr><tr><td>2016-07-30</td><td>31</td></tr><tr><td>2016-03-04</td><td>6</td></tr><tr><td>2016-08-08</td><td>180</td></tr><tr><td>2016-01-27</td><td>3</td></tr><tr><td>2016-11-18</td><td>161</td></tr><tr><td>2016-04-01</td><td>11</td></tr><tr><td>2016-07-14</td><td>39</td></tr><tr><td>2016-11-01</td><td>119</td></tr><tr><td>2016-01-14</td><td>6</td></tr><tr><td>2016-06-18</td><td>8</td></tr><tr><td>2016-08-09</td><td>124</td></tr><tr><td>2016-03-21</td><td>5</td></tr><tr><td>2016-05-15</td><td>8</td></tr><tr><td>2016-06-10</td><td>14</td></tr><tr><td>2016-10-12</td><td>121</td></tr><tr><td>2016-02-19</td><td>10</td></tr><tr><td>2016-02-21</td><td>13</td></tr><tr><td>2016-03-26</td><td>8</td></tr><tr><td>2016-04-07</td><td>11</td></tr><tr><td>2016-11-28</td><td>153</td></tr><tr><td>2016-05-16</td><td>8</td></tr><tr><td>2016-11-17</td><td>139</td></tr><tr><td>2016-09-03</td><td>115</td></tr><tr><td>2016-10-16</td><td>89</td></tr><tr><td>2016-05-14</td><td>12</td></tr><tr><td>2016-06-23</td><td>9</td></tr><tr><td>2016-10-22</td><td>161</td></tr><tr><td>2016-08-02</td><td>104</td></tr><tr><td>2016-12-04</td><td>166</td></tr><tr><td>2016-02-13</td><td>10</td></tr><tr><td>2016-04-12</td><td>7</td></tr><tr><td>2016-07-27</td><td>40</td></tr><tr><td>2016-02-26</td><td>7</td></tr><tr><td>2016-05-10</td><td>6</td></tr><tr><td>2016-09-17</td><td>129</td></tr><tr><td>2016-05-17</td><td>8</td></tr><tr><td>2016-11-27</td><td>152</td></tr><tr><td>2016-04-03</td><td>5</td></tr><tr><td>2016-10-13</td><td>118</td></tr><tr><td>2016-02-02</td><td>10</td></tr><tr><td>2016-11-26</td><td>136</td></tr><tr><td>2016-12-06</td><td>193</td></tr><tr><td>2016-03-10</td><td>5</td></tr><tr><td>2016-06-24</td><td>10</td></tr><tr><td>2016-11-02</td><td>126</td></tr><tr><td>2016-12-14</td><td>150</td></tr><tr><td>2016-02-07</td><td>8</td></tr><tr><td>2016-09-19</td><td>170</td></tr><tr><td>2016-08-11</td><td>91</td></tr><tr><td>2016-10-10</td><td>129</td></tr><tr><td>2016-01-17</td><td>7</td></tr><tr><td>2016-10-19</td><td>112</td></tr><tr><td>2016-01-12</td><td>7</td></tr><tr><td>2016-06-09</td><td>6</td></tr><tr><td>2016-07-11</td><td>69</td></tr><tr><td>2016-11-10</td><td>140</td></tr><tr><td>2016-01-08</td><td>10</td></tr><tr><td>2016-05-04</td><td>9</td></tr><tr><td>2016-02-17</td><td>12</td></tr><tr><td>2016-02-23</td><td>3</td></tr><tr><td>2016-07-18</td><td>21</td></tr><tr><td>2016-11-05</td><td>119</td></tr><tr><td>2016-12-10</td><td>122</td></tr><tr><td>2016-09-10</td><td>118</td></tr><tr><td>2016-03-28</td><td>13</td></tr><tr><td>2016-05-30</td><td>15</td></tr><tr><td>2016-11-29</td><td>160</td></tr><tr><td>2016-04-15</td><td>9</td></tr><tr><td>2016-04-28</td><td>8</td></tr><tr><td>2016-12-09</td><td>148</td></tr><tr><td>2016-01-30</td><td>6</td></tr><tr><td>2016-03-15</td><td>5</td></tr><tr><td>2016-04-24</td><td>14</td></tr><tr><td>2016-04-23</td><td>6</td></tr><tr><td>2016-03-08</td><td>14</td></tr><tr><td>2016-06-26</td><td>8</td></tr><tr><td>2016-12-16</td><td>130</td></tr><tr><td>2016-03-06</td><td>6</td></tr><tr><td>2016-05-19</td><td>7</td></tr><tr><td>2016-07-07</td><td>45</td></tr><tr><td>2016-01-22</td><td>10</td></tr><tr><td>2016-02-10</td><td>5</td></tr><tr><td>2016-02-24</td><td>11</td></tr><tr><td>2016-07-01</td><td>35</td></tr><tr><td>2016-07-23</td><td>34</td></tr><tr><td>2016-01-02</td><td>12</td></tr><tr><td>2016-09-06</td><td>106</td></tr><tr><td>2016-01-31</td><td>8</td></tr><tr><td>2016-03-17</td><td>8</td></tr><tr><td>2016-04-05</td><td>10</td></tr><tr><td>2016-08-17</td><td>124</td></tr><tr><td>2016-02-05</td><td>8</td></tr><tr><td>2016-06-21</td><td>15</td></tr><tr><td>2016-08-24</td><td>166</td></tr><tr><td>2016-09-21</td><td>133</td></tr><tr><td>2016-10-08</td><td>180</td></tr><tr><td>2016-04-06</td><td>5</td></tr><tr><td>2016-05-24</td><td>15</td></tr><tr><td>2016-03-30</td><td>10</td></tr><tr><td>2016-10-28</td><td>119</td></tr><tr><td>2016-12-08</td><td>162</td></tr><tr><td>2016-06-03</td><td>8</td></tr><tr><td>2016-06-30</td><td>10</td></tr><tr><td>2016-07-06</td><td>24</td></tr><tr><td>2016-07-20</td><td>72</td></tr><tr><td>2016-03-13</td><td>6</td></tr><tr><td>2016-03-05</td><td>17</td></tr><tr><td>2016-03-07</td><td>9</td></tr><tr><td>2016-06-28</td><td>13</td></tr><tr><td>2016-12-24</td><td>170</td></tr><tr><td>2016-01-23</td><td>14</td></tr><tr><td>2016-10-05</td><td>148</td></tr><tr><td>2016-02-06</td><td>14</td></tr><tr><td>2016-03-12</td><td>19</td></tr><tr><td>2016-01-04</td><td>8</td></tr><tr><td>2016-05-20</td><td>9</td></tr><tr><td>2016-06-12</td><td>11</td></tr><tr><td>2016-07-05</td><td>39</td></tr><tr><td>2016-10-31</td><td>118</td></tr><tr><td>2016-11-13</td><td>136</td></tr><tr><td>2016-12-28</td><td>161</td></tr><tr><td>2016-02-14</td><td>10</td></tr><tr><td>2016-05-29</td><td>8</td></tr><tr><td>2016-11-12</td><td>132</td></tr><tr><td>2016-06-11</td><td>10</td></tr><tr><td>2016-09-28</td><td>121</td></tr><tr><td>2016-05-25</td><td>7</td></tr><tr><td>2016-01-15</td><td>10</td></tr><tr><td>2016-01-25</td><td>4</td></tr><tr><td>2016-12-01</td><td>167</td></tr><tr><td>2016-02-20</td><td>10</td></tr><tr><td>2016-06-25</td><td>9</td></tr><tr><td>2016-10-04</td><td>112</td></tr><tr><td>2016-02-01</td><td>10</td></tr><tr><td>2016-11-20</td><td>87</td></tr><tr><td>2016-01-16</td><td>11</td></tr><tr><td>2016-07-22</td><td>45</td></tr><tr><td>2016-11-11</td><td>85</td></tr><tr><td>2016-04-21</td><td>5</td></tr><tr><td>2016-08-25</td><td>152</td></tr><tr><td>2016-01-10</td><td>10</td></tr><tr><td>2016-03-09</td><td>5</td></tr><tr><td>2016-01-18</td><td>7</td></tr><tr><td>2016-05-22</td><td>12</td></tr><tr><td>2016-07-28</td><td>39</td></tr><tr><td>2016-09-20</td><td>136</td></tr><tr><td>2016-09-29</td><td>81</td></tr><tr><td>2016-02-16</td><td>4</td></tr><tr><td>2016-02-27</td><td>3</td></tr><tr><td>2016-01-07</td><td>9</td></tr><tr><td>2016-10-18</td><td>140</td></tr><tr><td>2016-10-25</td><td>124</td></tr><tr><td>2016-01-09</td><td>9</td></tr><tr><td>2016-04-10</td><td>6</td></tr><tr><td>2016-09-07</td><td>137</td></tr><tr><td>2016-10-01</td><td>127</td></tr><tr><td>2016-12-23</td><td>159</td></tr><tr><td>2016-05-18</td><td>2</td></tr><tr><td>2016-06-01</td><td>15</td></tr><tr><td>2016-06-04</td><td>8</td></tr><tr><td>2016-06-20</td><td>10</td></tr><tr><td>2016-09-04</td><td>136</td></tr><tr><td>2016-10-15</td><td>158</td></tr><tr><td>2016-12-26</td><td>175</td></tr><tr><td>2016-04-27</td><td>10</td></tr><tr><td>2016-07-25</td><td>39</td></tr><tr><td>2016-11-03</td><td>172</td></tr><tr><td>2016-05-06</td><td>15</td></tr><tr><td>2016-06-07</td><td>11</td></tr><tr><td>2016-08-28</td><td>122</td></tr><tr><td>2016-09-11</td><td>87</td></tr><tr><td>2016-03-18</td><td>15</td></tr><tr><td>2016-12-07</td><td>237</td></tr><tr><td>2016-07-09</td><td>58</td></tr><tr><td>2016-11-09</td><td>125</td></tr><tr><td>2016-03-29</td><td>10</td></tr><tr><td>2016-03-23</td><td>6</td></tr><tr><td>2016-06-06</td><td>11</td></tr><tr><td>2016-07-15</td><td>59</td></tr><tr><td>2016-11-22</td><td>170</td></tr><tr><td>2016-10-02</td><td>157</td></tr><tr><td>2016-11-16</td><td>117</td></tr><tr><td>2015-03-09</td><td>6</td></tr><tr><td>2015-05-19</td><td>6</td></tr><tr><td>2015-03-06</td><td>9</td></tr><tr><td>2015-04-09</td><td>5</td></tr><tr><td>2015-09-02</td><td>7</td></tr><tr><td>2015-12-22</td><td>12</td></tr><tr><td>2015-05-10</td><td>3</td></tr><tr><td>2015-09-28</td><td>2</td></tr><tr><td>2015-03-12</td><td>5</td></tr><tr><td>2015-03-16</td><td>5</td></tr><tr><td>2015-04-01</td><td>5</td></tr><tr><td>2015-04-24</td><td>3</td></tr><tr><td>2015-03-11</td><td>6</td></tr><tr><td>2015-06-15</td><td>6</td></tr><tr><td>2015-10-16</td><td>9</td></tr><tr><td>2015-11-02</td><td>4</td></tr><tr><td>2015-11-27</td><td>14</td></tr><tr><td>2015-12-31</td><td>7</td></tr><tr><td>2015-08-01</td><td>9</td></tr><tr><td>2015-04-19</td><td>4</td></tr><tr><td>2015-10-30</td><td>12</td></tr><tr><td>2015-12-29</td><td>14</td></tr><tr><td>2015-06-19</td><td>13</td></tr><tr><td>2015-10-13</td><td>13</td></tr><tr><td>2015-04-07</td><td>9</td></tr><tr><td>2015-08-24</td><td>10</td></tr><tr><td>2015-09-29</td><td>7</td></tr><tr><td>2015-01-20</td><td>6</td></tr><tr><td>2015-09-06</td><td>4</td></tr><tr><td>2015-09-21</td><td>5</td></tr><tr><td>2015-12-05</td><td>13</td></tr><tr><td>2015-04-28</td><td>7</td></tr><tr><td>2015-06-22</td><td>5</td></tr><tr><td>2015-11-21</td><td>7</td></tr><tr><td>2015-05-16</td><td>11</td></tr><tr><td>2015-12-30</td><td>7</td></tr><tr><td>2015-09-20</td><td>7</td></tr><tr><td>2015-02-25</td><td>5</td></tr><tr><td>2015-03-21</td><td>4</td></tr><tr><td>2015-09-15</td><td>4</td></tr><tr><td>2015-11-30</td><td>9</td></tr><tr><td>2015-02-03</td><td>7</td></tr><tr><td>2015-02-09</td><td>2</td></tr><tr><td>2015-02-17</td><td>4</td></tr><tr><td>2015-09-04</td><td>6</td></tr><tr><td>2015-05-25</td><td>9</td></tr><tr><td>2015-09-17</td><td>5</td></tr><tr><td>2015-02-04</td><td>7</td></tr><tr><td>2015-06-23</td><td>15</td></tr><tr><td>2015-02-07</td><td>6</td></tr><tr><td>2015-05-06</td><td>8</td></tr><tr><td>2015-02-01</td><td>5</td></tr><tr><td>2015-12-06</td><td>5</td></tr><tr><td>2015-07-21</td><td>10</td></tr><tr><td>2015-08-10</td><td>4</td></tr><tr><td>2015-09-10</td><td>9</td></tr><tr><td>2015-10-24</td><td>9</td></tr><tr><td>2015-02-10</td><td>9</td></tr><tr><td>2015-03-22</td><td>6</td></tr><tr><td>2015-04-18</td><td>7</td></tr><tr><td>2015-01-24</td><td>8</td></tr><tr><td>2015-04-08</td><td>3</td></tr><tr><td>2015-05-03</td><td>4</td></tr><tr><td>2015-09-07</td><td>2</td></tr><tr><td>2015-09-09</td><td>9</td></tr><tr><td>2015-11-15</td><td>2</td></tr><tr><td>2015-05-18</td><td>8</td></tr><tr><td>2015-06-05</td><td>6</td></tr><tr><td>2015-06-09</td><td>5</td></tr><tr><td>2015-12-17</td><td>11</td></tr><tr><td>2015-06-24</td><td>7</td></tr><tr><td>2015-07-06</td><td>10</td></tr><tr><td>2015-01-23</td><td>3</td></tr><tr><td>2015-08-21</td><td>10</td></tr><tr><td>2015-07-27</td><td>10</td></tr><tr><td>2015-05-23</td><td>7</td></tr><tr><td>2015-07-24</td><td>5</td></tr><tr><td>2015-08-02</td><td>8</td></tr><tr><td>2015-12-11</td><td>13</td></tr><tr><td>2015-04-22</td><td>4</td></tr><tr><td>2015-06-27</td><td>9</td></tr><tr><td>2015-11-17</td><td>6</td></tr><tr><td>2015-06-11</td><td>5</td></tr><tr><td>2015-11-06</td><td>8</td></tr><tr><td>2015-03-19</td><td>4</td></tr><tr><td>2015-08-17</td><td>10</td></tr><tr><td>2015-03-13</td><td>10</td></tr><tr><td>2015-05-21</td><td>6</td></tr><tr><td>2015-06-01</td><td>4</td></tr><tr><td>2015-11-08</td><td>7</td></tr><tr><td>2015-04-11</td><td>6</td></tr><tr><td>2015-11-28</td><td>6</td></tr><tr><td>2015-01-11</td><td>9</td></tr><tr><td>2015-09-16</td><td>5</td></tr><tr><td>2015-10-08</td><td>7</td></tr><tr><td>2015-10-28</td><td>6</td></tr><tr><td>2015-04-15</td><td>13</td></tr><tr><td>2015-08-08</td><td>8</td></tr><tr><td>2015-04-27</td><td>9</td></tr><tr><td>2015-04-16</td><td>7</td></tr><tr><td>2015-10-11</td><td>7</td></tr><tr><td>2015-08-19</td><td>11</td></tr><tr><td>2015-10-25</td><td>7</td></tr><tr><td>2015-11-07</td><td>5</td></tr><tr><td>2015-09-19</td><td>9</td></tr><tr><td>2015-11-25</td><td>8</td></tr><tr><td>2015-06-26</td><td>7</td></tr><tr><td>2015-07-12</td><td>7</td></tr><tr><td>2015-07-11</td><td>12</td></tr><tr><td>2015-10-12</td><td>11</td></tr><tr><td>2015-01-10</td><td>4</td></tr><tr><td>2015-01-22</td><td>9</td></tr><tr><td>2015-10-18</td><td>7</td></tr><tr><td>2015-11-22</td><td>4</td></tr><tr><td>2015-12-01</td><td>11</td></tr><tr><td>2015-03-15</td><td>10</td></tr><tr><td>2015-07-29</td><td>6</td></tr><tr><td>2015-12-08</td><td>11</td></tr><tr><td>2015-04-14</td><td>3</td></tr><tr><td>2015-01-29</td><td>4</td></tr><tr><td>2015-03-18</td><td>8</td></tr><tr><td>2015-04-29</td><td>11</td></tr><tr><td>2015-01-08</td><td>8</td></tr><tr><td>2015-01-26</td><td>4</td></tr><tr><td>2015-06-06</td><td>7</td></tr><tr><td>2015-03-01</td><td>6</td></tr><tr><td>2015-08-06</td><td>12</td></tr><tr><td>2015-12-12</td><td>17</td></tr><tr><td>2015-08-31</td><td>12</td></tr><tr><td>2015-07-10</td><td>7</td></tr><tr><td>2015-01-17</td><td>8</td></tr><tr><td>2015-07-18</td><td>7</td></tr><tr><td>2015-12-02</td><td>9</td></tr><tr><td>2015-04-20</td><td>11</td></tr><tr><td>2015-10-20</td><td>9</td></tr><tr><td>2015-12-26</td><td>8</td></tr><tr><td>2015-12-27</td><td>9</td></tr><tr><td>2015-05-09</td><td>6</td></tr><tr><td>2015-01-15</td><td>7</td></tr><tr><td>2015-07-15</td><td>4</td></tr><tr><td>2015-12-15</td><td>5</td></tr><tr><td>2015-01-25</td><td>4</td></tr><tr><td>2015-05-29</td><td>1</td></tr><tr><td>2015-11-04</td><td>1</td></tr><tr><td>2015-11-26</td><td>6</td></tr><tr><td>2015-12-04</td><td>3</td></tr><tr><td>2015-12-23</td><td>12</td></tr><tr><td>2015-02-11</td><td>12</td></tr><tr><td>2015-12-07</td><td>17</td></tr><tr><td>2015-01-14</td><td>9</td></tr><tr><td>2015-12-10</td><td>9</td></tr><tr><td>2015-05-11</td><td>4</td></tr><tr><td>2015-02-28</td><td>5</td></tr><tr><td>2015-03-05</td><td>3</td></tr><tr><td>2015-03-28</td><td>8</td></tr><tr><td>2015-10-07</td><td>6</td></tr><tr><td>2015-07-30</td><td>10</td></tr><tr><td>2015-04-23</td><td>10</td></tr><tr><td>2015-07-13</td><td>12</td></tr><tr><td>2015-08-30</td><td>8</td></tr><tr><td>2015-05-05</td><td>3</td></tr><tr><td>2015-09-22</td><td>5</td></tr><tr><td>2015-10-14</td><td>6</td></tr><tr><td>2015-02-20</td><td>5</td></tr><tr><td>2015-06-20</td><td>7</td></tr><tr><td>2015-07-01</td><td>8</td></tr><tr><td>2015-10-03</td><td>7</td></tr><tr><td>2015-12-24</td><td>12</td></tr><tr><td>2015-01-30</td><td>10</td></tr><tr><td>2015-02-14</td><td>8</td></tr><tr><td>2015-04-02</td><td>3</td></tr><tr><td>2015-06-25</td><td>4</td></tr><tr><td>2015-04-25</td><td>8</td></tr><tr><td>2015-07-08</td><td>6</td></tr><tr><td>2015-12-25</td><td>8</td></tr><tr><td>2015-05-14</td><td>6</td></tr><tr><td>2015-08-14</td><td>10</td></tr><tr><td>2015-01-03</td><td>8</td></tr><tr><td>2015-01-06</td><td>6</td></tr><tr><td>2015-10-27</td><td>3</td></tr><tr><td>2015-12-19</td><td>14</td></tr><tr><td>2015-03-24</td><td>12</td></tr><tr><td>2015-04-13</td><td>4</td></tr><tr><td>2015-02-24</td><td>9</td></tr><tr><td>2015-05-22</td><td>5</td></tr><tr><td>2015-07-17</td><td>11</td></tr><tr><td>2015-07-31</td><td>9</td></tr><tr><td>2015-09-03</td><td>8</td></tr><tr><td>2015-08-16</td><td>5</td></tr><tr><td>2015-09-12</td><td>7</td></tr><tr><td>2015-11-11</td><td>11</td></tr><tr><td>2015-04-06</td><td>5</td></tr><tr><td>2015-05-13</td><td>13</td></tr><tr><td>2015-09-05</td><td>3</td></tr><tr><td>2015-10-26</td><td>9</td></tr><tr><td>2015-06-17</td><td>6</td></tr><tr><td>2015-08-03</td><td>5</td></tr><tr><td>2015-08-20</td><td>12</td></tr><tr><td>2015-09-23</td><td>7</td></tr><tr><td>2015-03-02</td><td>7</td></tr><tr><td>2015-08-27</td><td>11</td></tr><tr><td>2015-09-14</td><td>9</td></tr><tr><td>2015-12-20</td><td>14</td></tr><tr><td>2015-08-22</td><td>10</td></tr><tr><td>2015-10-17</td><td>6</td></tr><tr><td>2015-04-03</td><td>9</td></tr><tr><td>2015-09-26</td><td>10</td></tr><tr><td>2015-10-21</td><td>9</td></tr><tr><td>2015-11-19</td><td>4</td></tr><tr><td>2015-10-01</td><td>8</td></tr><tr><td>2015-10-02</td><td>8</td></tr><tr><td>2015-05-12</td><td>8</td></tr><tr><td>2015-07-23</td><td>7</td></tr><tr><td>2015-05-02</td><td>5</td></tr><tr><td>2015-07-20</td><td>9</td></tr><tr><td>2015-12-14</td><td>16</td></tr><tr><td>2015-03-04</td><td>8</td></tr><tr><td>2015-03-23</td><td>5</td></tr><tr><td>2015-04-17</td><td>9</td></tr><tr><td>2015-08-09</td><td>8</td></tr><tr><td>2015-10-19</td><td>10</td></tr><tr><td>2015-12-09</td><td>7</td></tr><tr><td>2015-02-23</td><td>5</td></tr><tr><td>2015-03-14</td><td>4</td></tr><tr><td>2015-11-03</td><td>6</td></tr><tr><td>2015-06-04</td><td>6</td></tr><tr><td>2015-02-27</td><td>3</td></tr><tr><td>2015-07-28</td><td>5</td></tr><tr><td>2015-06-28</td><td>5</td></tr><tr><td>2015-02-13</td><td>6</td></tr><tr><td>2015-03-17</td><td>9</td></tr><tr><td>2015-04-12</td><td>11</td></tr><tr><td>2015-10-09</td><td>3</td></tr><tr><td>2015-06-03</td><td>3</td></tr><tr><td>2015-02-26</td><td>11</td></tr><tr><td>2015-06-07</td><td>8</td></tr><tr><td>2015-07-22</td><td>7</td></tr><tr><td>2015-09-24</td><td>9</td></tr><tr><td>2015-11-20</td><td>9</td></tr><tr><td>2015-03-26</td><td>9</td></tr><tr><td>2015-10-22</td><td>7</td></tr><tr><td>2015-05-24</td><td>8</td></tr><tr><td>2015-01-05</td><td>3</td></tr><tr><td>2015-06-21</td><td>9</td></tr><tr><td>2015-07-04</td><td>9</td></tr><tr><td>2015-07-26</td><td>5</td></tr><tr><td>2015-12-16</td><td>11</td></tr><tr><td>2015-05-28</td><td>5</td></tr><tr><td>2015-08-26</td><td>13</td></tr><tr><td>2015-02-19</td><td>5</td></tr><tr><td>2015-08-12</td><td>9</td></tr><tr><td>2015-02-02</td><td>6</td></tr><tr><td>2015-01-04</td><td>5</td></tr><tr><td>2015-09-13</td><td>11</td></tr><tr><td>2015-11-10</td><td>7</td></tr><tr><td>2015-04-26</td><td>4</td></tr><tr><td>2015-02-06</td><td>10</td></tr><tr><td>2015-09-30</td><td>9</td></tr><tr><td>2015-04-30</td><td>13</td></tr><tr><td>2015-10-29</td><td>6</td></tr><tr><td>2015-01-16</td><td>7</td></tr><tr><td>2015-03-20</td><td>9</td></tr><tr><td>2015-05-31</td><td>3</td></tr><tr><td>2015-07-09</td><td>5</td></tr><tr><td>2015-08-13</td><td>12</td></tr><tr><td>2015-02-15</td><td>6</td></tr><tr><td>2015-09-01</td><td>2</td></tr><tr><td>2015-09-27</td><td>3</td></tr><tr><td>2015-10-04</td><td>6</td></tr><tr><td>2015-10-31</td><td>5</td></tr><tr><td>2015-01-19</td><td>6</td></tr><tr><td>2015-11-13</td><td>4</td></tr><tr><td>2015-03-08</td><td>4</td></tr><tr><td>2015-09-08</td><td>9</td></tr><tr><td>2015-04-21</td><td>5</td></tr><tr><td>2015-06-30</td><td>6</td></tr><tr><td>2015-07-02</td><td>3</td></tr><tr><td>2015-08-07</td><td>11</td></tr><tr><td>2015-02-05</td><td>6</td></tr><tr><td>2015-02-16</td><td>3</td></tr><tr><td>2015-05-01</td><td>12</td></tr><tr><td>2015-07-16</td><td>6</td></tr><tr><td>2015-01-02</td><td>4</td></tr><tr><td>2015-01-21</td><td>7</td></tr><tr><td>2015-04-10</td><td>5</td></tr><tr><td>2015-10-23</td><td>7</td></tr><tr><td>2015-02-18</td><td>2</td></tr><tr><td>2015-06-13</td><td>4</td></tr><tr><td>2015-12-13</td><td>12</td></tr><tr><td>2015-01-13</td><td>3</td></tr><tr><td>2015-01-12</td><td>7</td></tr><tr><td>2015-11-29</td><td>6</td></tr><tr><td>2015-03-07</td><td>9</td></tr><tr><td>2015-07-19</td><td>7</td></tr><tr><td>2015-11-18</td><td>7</td></tr><tr><td>2015-05-26</td><td>5</td></tr><tr><td>2015-08-11</td><td>5</td></tr><tr><td>2015-12-21</td><td>3</td></tr><tr><td>2015-12-03</td><td>16</td></tr><tr><td>2015-06-12</td><td>12</td></tr><tr><td>2015-03-10</td><td>2</td></tr><tr><td>2015-07-25</td><td>9</td></tr><tr><td>2015-05-15</td><td>7</td></tr><tr><td>2015-10-05</td><td>3</td></tr><tr><td>2015-03-27</td><td>3</td></tr><tr><td>2015-05-04</td><td>11</td></tr><tr><td>2015-11-24</td><td>10</td></tr><tr><td>2015-07-14</td><td>9</td></tr><tr><td>2015-10-10</td><td>4</td></tr><tr><td>2015-02-12</td><td>3</td></tr><tr><td>2015-07-03</td><td>13</td></tr><tr><td>2015-09-11</td><td>8</td></tr><tr><td>2015-12-28</td><td>10</td></tr><tr><td>2015-02-22</td><td>10</td></tr><tr><td>2015-05-20</td><td>6</td></tr><tr><td>2015-08-04</td><td>8</td></tr><tr><td>2015-01-28</td><td>5</td></tr><tr><td>2015-03-31</td><td>4</td></tr><tr><td>2015-05-27</td><td>5</td></tr><tr><td>2015-08-05</td><td>7</td></tr><tr><td>2015-08-25</td><td>11</td></tr><tr><td>2015-06-14</td><td>4</td></tr><tr><td>2015-01-01</td><td>4</td></tr><tr><td>2015-02-21</td><td>1</td></tr><tr><td>2015-03-25</td><td>5</td></tr><tr><td>2015-01-18</td><td>6</td></tr><tr><td>2015-03-30</td><td>4</td></tr><tr><td>2015-07-05</td><td>10</td></tr><tr><td>2015-11-09</td><td>4</td></tr><tr><td>2015-03-29</td><td>6</td></tr><tr><td>2015-08-18</td><td>8</td></tr><tr><td>2015-01-09</td><td>4</td></tr><tr><td>2015-08-28</td><td>8</td></tr><tr><td>2015-01-27</td><td>5</td></tr><tr><td>2015-02-08</td><td>4</td></tr><tr><td>2015-05-08</td><td>10</td></tr><tr><td>2015-06-08</td><td>8</td></tr><tr><td>2015-12-18</td><td>10</td></tr><tr><td>2015-04-05</td><td>4</td></tr><tr><td>2015-06-16</td><td>2</td></tr><tr><td>2015-08-29</td><td>6</td></tr><tr><td>2015-08-23</td><td>5</td></tr><tr><td>2015-06-29</td><td>8</td></tr><tr><td>2015-11-01</td><td>6</td></tr><tr><td>2015-04-04</td><td>7</td></tr><tr><td>2015-06-02</td><td>12</td></tr><tr><td>2015-09-18</td><td>9</td></tr><tr><td>2015-10-15</td><td>6</td></tr><tr><td>2015-01-07</td><td>4</td></tr><tr><td>2015-03-03</td><td>8</td></tr><tr><td>2015-05-30</td><td>7</td></tr><tr><td>2015-09-25</td><td>6</td></tr><tr><td>2015-11-23</td><td>5</td></tr><tr><td>2015-05-07</td><td>5</td></tr><tr><td>2015-11-12</td><td>6</td></tr><tr><td>2015-11-14</td><td>5</td></tr><tr><td>2015-11-16</td><td>8</td></tr><tr><td>2015-06-18</td><td>11</td></tr><tr><td>2015-07-07</td><td>9</td></tr><tr><td>2015-01-31</td><td>7</td></tr><tr><td>2015-08-15</td><td>12</td></tr><tr><td>2015-10-06</td><td>7</td></tr><tr><td>2015-11-05</td><td>6</td></tr><tr><td>2015-05-17</td><td>9</td></tr><tr><td>2015-06-10</td><td>8</td></tr></tbody></table></div>"
      ]
     },
     "metadata": {
      "application/vnd.databricks.v1+output": {
       "addedWidgets": {},
       "aggData": [],
       "aggError": "",
       "aggOverflow": false,
       "aggSchema": [],
       "aggSeriesLimitReached": false,
       "aggType": "",
       "arguments": {},
       "columnCustomDisplayInfos": {},
       "data": [
        [
         "2017-01-06",
         151
        ],
        [
         "2017-01-27",
         142
        ],
        [
         "2017-02-26",
         119
        ],
        [
         "2017-01-24",
         173
        ],
        [
         "2017-06-29",
         172
        ],
        [
         "2017-02-16",
         124
        ],
        [
         "2017-04-09",
         140
        ],
        [
         "2017-02-28",
         162
        ],
        [
         "2017-03-28",
         149
        ],
        [
         "2017-06-30",
         136
        ],
        [
         "2017-01-30",
         145
        ],
        [
         "2017-05-11",
         164
        ],
        [
         "2017-02-10",
         168
        ],
        [
         "2017-04-25",
         176
        ],
        [
         "2017-03-19",
         152
        ],
        [
         "2017-05-26",
         175
        ],
        [
         "2017-01-04",
         138
        ],
        [
         "2017-06-28",
         215
        ],
        [
         "2017-04-03",
         246
        ],
        [
         "2017-06-14",
         258
        ],
        [
         "2017-04-29",
         163
        ],
        [
         "2017-02-07",
         161
        ],
        [
         "2017-01-10",
         192
        ],
        [
         "2017-03-17",
         138
        ],
        [
         "2017-05-10",
         150
        ],
        [
         "2017-01-21",
         131
        ],
        [
         "2017-05-09",
         191
        ],
        [
         "2017-04-07",
         160
        ],
        [
         "2017-06-08",
         171
        ],
        [
         "2017-01-05",
         141
        ],
        [
         "2017-06-01",
         122
        ],
        [
         "2017-04-02",
         168
        ],
        [
         "2017-06-09",
         182
        ],
        [
         "2017-04-11",
         137
        ],
        [
         "2017-04-12",
         156
        ],
        [
         "2017-01-13",
         123
        ],
        [
         "2017-02-08",
         164
        ],
        [
         "2017-03-13",
         191
        ],
        [
         "2017-04-05",
         122
        ],
        [
         "2017-04-20",
         165
        ],
        [
         "2017-06-15",
         195
        ],
        [
         "2017-02-25",
         103
        ],
        [
         "2017-05-21",
         185
        ],
        [
         "2017-03-16",
         107
        ],
        [
         "2017-04-27",
         176
        ],
        [
         "2017-05-27",
         148
        ],
        [
         "2017-02-01",
         179
        ],
        [
         "2017-01-26",
         156
        ],
        [
         "2017-01-01",
         98
        ],
        [
         "2017-06-19",
         194
        ],
        [
         "2017-04-18",
         186
        ],
        [
         "2017-01-20",
         195
        ],
        [
         "2017-06-13",
         151
        ],
        [
         "2017-06-25",
         189
        ],
        [
         "2017-03-05",
         146
        ],
        [
         "2017-03-21",
         177
        ],
        [
         "2017-06-07",
         222
        ],
        [
         "2017-06-02",
         137
        ],
        [
         "2017-03-24",
         158
        ],
        [
         "2017-04-30",
         169
        ],
        [
         "2017-01-11",
         162
        ],
        [
         "2017-02-12",
         163
        ],
        [
         "2017-01-17",
         123
        ],
        [
         "2017-02-24",
         152
        ],
        [
         "2017-06-18",
         163
        ],
        [
         "2017-05-28",
         170
        ],
        [
         "2017-05-05",
         204
        ],
        [
         "2017-05-19",
         171
        ],
        [
         "2017-03-20",
         163
        ],
        [
         "2017-04-15",
         181
        ],
        [
         "2017-06-06",
         216
        ],
        [
         "2017-01-19",
         131
        ],
        [
         "2017-01-25",
         121
        ],
        [
         "2017-04-26",
         153
        ],
        [
         "2017-02-23",
         137
        ],
        [
         "2017-03-30",
         157
        ],
        [
         "2017-02-06",
         156
        ],
        [
         "2017-03-29",
         136
        ],
        [
         "2017-01-23",
         113
        ],
        [
         "2017-01-08",
         168
        ],
        [
         "2017-04-08",
         173
        ],
        [
         "2017-06-17",
         215
        ],
        [
         "2017-03-11",
         158
        ],
        [
         "2017-03-06",
         137
        ],
        [
         "2017-04-23",
         178
        ],
        [
         "2017-02-22",
         125
        ],
        [
         "2017-03-26",
         131
        ],
        [
         "2017-05-07",
         188
        ],
        [
         "2017-01-07",
         152
        ],
        [
         "2017-02-05",
         172
        ],
        [
         "2017-01-12",
         121
        ],
        [
         "2017-03-18",
         142
        ],
        [
         "2017-02-17",
         194
        ],
        [
         "2017-01-31",
         148
        ],
        [
         "2017-02-03",
         189
        ],
        [
         "2017-05-22",
         152
        ],
        [
         "2017-06-22",
         191
        ],
        [
         "2017-06-03",
         177
        ],
        [
         "2017-01-16",
         171
        ],
        [
         "2017-04-22",
         161
        ],
        [
         "2017-06-10",
         151
        ],
        [
         "2017-06-11",
         233
        ],
        [
         "2017-03-07",
         159
        ],
        [
         "2017-05-14",
         186
        ],
        [
         "2017-05-30",
         162
        ],
        [
         "2017-06-21",
         218
        ],
        [
         "2017-02-27",
         174
        ],
        [
         "2017-03-27",
         185
        ],
        [
         "2017-02-18",
         195
        ],
        [
         "2017-05-08",
         194
        ],
        [
         "2017-05-06",
         168
        ],
        [
         "2017-06-26",
         187
        ],
        [
         "2017-01-09",
         117
        ],
        [
         "2017-06-16",
         133
        ],
        [
         "2017-05-23",
         158
        ],
        [
         "2017-04-06",
         172
        ],
        [
         "2017-03-10",
         159
        ],
        [
         "2017-05-03",
         172
        ],
        [
         "2017-05-04",
         191
        ],
        [
         "2017-02-21",
         167
        ],
        [
         "2017-03-03",
         129
        ],
        [
         "2017-03-23",
         155
        ],
        [
         "2017-05-02",
         158
        ],
        [
         "2017-03-22",
         141
        ],
        [
         "2017-06-05",
         187
        ],
        [
         "2017-05-17",
         170
        ],
        [
         "2017-04-24",
         167
        ],
        [
         "2017-06-23",
         161
        ],
        [
         "2017-01-22",
         126
        ],
        [
         "2017-02-02",
         148
        ],
        [
         "2017-03-02",
         118
        ],
        [
         "2017-03-12",
         167
        ],
        [
         "2017-05-24",
         148
        ],
        [
         "2017-01-15",
         156
        ],
        [
         "2017-05-25",
         189
        ],
        [
         "2017-05-18",
         136
        ],
        [
         "2017-05-12",
         199
        ],
        [
         "2017-03-31",
         131
        ],
        [
         "2017-05-20",
         193
        ],
        [
         "2017-01-02",
         135
        ],
        [
         "2017-01-28",
         181
        ],
        [
         "2017-03-09",
         179
        ],
        [
         "2017-02-20",
         237
        ],
        [
         "2017-01-18",
         159
        ],
        [
         "2017-02-19",
         165
        ],
        [
         "2017-03-04",
         144
        ],
        [
         "2017-02-15",
         155
        ],
        [
         "2017-02-13",
         150
        ],
        [
         "2017-04-16",
         148
        ],
        [
         "2017-01-03",
         138
        ],
        [
         "2017-05-29",
         157
        ],
        [
         "2017-04-19",
         218
        ],
        [
         "2017-04-13",
         108
        ],
        [
         "2017-04-04",
         156
        ],
        [
         "2017-03-01",
         306
        ],
        [
         "2017-03-25",
         144
        ],
        [
         "2017-02-11",
         124
        ],
        [
         "2017-06-12",
         153
        ],
        [
         "2017-04-28",
         205
        ],
        [
         "2017-05-31",
         192
        ],
        [
         "2017-02-09",
         138
        ],
        [
         "2017-05-16",
         190
        ],
        [
         "2017-03-14",
         137
        ],
        [
         "2017-03-08",
         136
        ],
        [
         "2017-06-04",
         148
        ],
        [
         "2017-04-17",
         168
        ],
        [
         "2017-04-10",
         161
        ],
        [
         "2017-06-27",
         172
        ],
        [
         "2017-01-14",
         143
        ],
        [
         "2017-05-01",
         220
        ],
        [
         "2017-04-01",
         170
        ],
        [
         "2017-06-24",
         196
        ],
        [
         "2017-05-15",
         171
        ],
        [
         "2017-02-14",
         135
        ],
        [
         "2017-01-29",
         142
        ],
        [
         "2017-05-13",
         164
        ],
        [
         "2017-02-04",
         128
        ],
        [
         "2017-03-15",
         141
        ],
        [
         "2017-06-20",
         185
        ],
        [
         "2017-04-14",
         166
        ],
        [
         "2017-04-21",
         137
        ],
        [
         "2016-03-01",
         8
        ],
        [
         "2016-04-25",
         15
        ],
        [
         "2016-05-03",
         15
        ],
        [
         "2016-07-26",
         44
        ],
        [
         "2016-08-15",
         93
        ],
        [
         "2016-08-31",
         126
        ],
        [
         "2016-10-03",
         130
        ],
        [
         "2016-01-28",
         5
        ],
        [
         "2016-07-17",
         39
        ],
        [
         "2016-11-08",
         101
        ],
        [
         "2016-12-19",
         169
        ],
        [
         "2016-07-03",
         64
        ],
        [
         "2016-08-23",
         89
        ],
        [
         "2016-02-04",
         17
        ],
        [
         "2016-05-26",
         10
        ],
        [
         "2016-06-02",
         13
        ],
        [
         "2016-01-13",
         12
        ],
        [
         "2016-09-23",
         149
        ],
        [
         "2016-01-01",
         8
        ],
        [
         "2016-04-22",
         6
        ],
        [
         "2016-06-16",
         7
        ],
        [
         "2016-09-30",
         126
        ],
        [
         "2016-01-19",
         5
        ],
        [
         "2016-05-09",
         8
        ],
        [
         "2016-07-19",
         37
        ],
        [
         "2016-09-15",
         128
        ],
        [
         "2016-02-08",
         11
        ],
        [
         "2016-10-07",
         118
        ],
        [
         "2016-12-12",
         188
        ],
        [
         "2016-05-23",
         12
        ],
        [
         "2016-09-26",
         114
        ],
        [
         "2016-12-13",
         189
        ],
        [
         "2016-02-03",
         9
        ],
        [
         "2016-03-25",
         4
        ],
        [
         "2016-08-26",
         122
        ],
        [
         "2016-08-01",
         105
        ],
        [
         "2016-09-09",
         153
        ],
        [
         "2016-06-17",
         9
        ],
        [
         "2016-09-27",
         145
        ],
        [
         "2016-08-16",
         132
        ],
        [
         "2016-10-23",
         142
        ],
        [
         "2016-04-30",
         11
        ],
        [
         "2016-07-21",
         21
        ],
        [
         "2016-05-27",
         10
        ],
        [
         "2016-07-02",
         37
        ],
        [
         "2016-08-06",
         106
        ],
        [
         "2016-10-20",
         126
        ],
        [
         "2016-05-07",
         9
        ],
        [
         "2016-04-26",
         9
        ],
        [
         "2016-05-13",
         9
        ],
        [
         "2016-05-31",
         16
        ],
        [
         "2016-08-05",
         90
        ],
        [
         "2016-02-22",
         11
        ],
        [
         "2016-10-24",
         101
        ],
        [
         "2016-10-27",
         102
        ],
        [
         "2016-11-14",
         152
        ],
        [
         "2016-03-22",
         7
        ],
        [
         "2016-08-20",
         99
        ],
        [
         "2016-09-05",
         112
        ],
        [
         "2016-05-21",
         10
        ],
        [
         "2016-12-15",
         194
        ],
        [
         "2016-05-11",
         11
        ],
        [
         "2016-11-24",
         182
        ],
        [
         "2016-06-22",
         6
        ],
        [
         "2016-11-25",
         104
        ],
        [
         "2016-11-30",
         152
        ],
        [
         "2016-05-28",
         12
        ],
        [
         "2016-06-19",
         13
        ],
        [
         "2016-03-11",
         8
        ],
        [
         "2016-03-27",
         3
        ],
        [
         "2016-06-08",
         17
        ],
        [
         "2016-11-19",
         148
        ],
        [
         "2016-12-20",
         156
        ],
        [
         "2016-12-21",
         157
        ],
        [
         "2016-06-15",
         14
        ],
        [
         "2016-07-31",
         46
        ],
        [
         "2016-08-03",
         126
        ],
        [
         "2016-04-04",
         12
        ],
        [
         "2016-06-13",
         9
        ],
        [
         "2016-01-11",
         7
        ],
        [
         "2016-12-22",
         103
        ],
        [
         "2016-03-14",
         9
        ],
        [
         "2016-04-16",
         7
        ],
        [
         "2016-04-18",
         11
        ],
        [
         "2016-08-12",
         148
        ],
        [
         "2016-09-22",
         126
        ],
        [
         "2016-10-17",
         120
        ],
        [
         "2016-08-19",
         149
        ],
        [
         "2016-04-11",
         12
        ],
        [
         "2016-09-14",
         129
        ],
        [
         "2016-06-29",
         7
        ],
        [
         "2016-03-03",
         6
        ],
        [
         "2016-01-05",
         7
        ],
        [
         "2016-01-06",
         2
        ],
        [
         "2016-06-27",
         13
        ],
        [
         "2016-04-29",
         7
        ],
        [
         "2016-08-10",
         88
        ],
        [
         "2016-10-30",
         121
        ],
        [
         "2016-01-20",
         7
        ],
        [
         "2016-05-05",
         14
        ],
        [
         "2016-02-11",
         4
        ],
        [
         "2016-04-19",
         7
        ],
        [
         "2016-09-12",
         162
        ],
        [
         "2016-10-06",
         185
        ],
        [
         "2016-02-09",
         10
        ],
        [
         "2016-04-14",
         7
        ],
        [
         "2016-01-29",
         8
        ],
        [
         "2016-01-26",
         9
        ],
        [
         "2016-08-13",
         129
        ],
        [
         "2016-11-15",
         147
        ],
        [
         "2016-02-15",
         11
        ],
        [
         "2016-09-18",
         148
        ],
        [
         "2016-12-03",
         178
        ],
        [
         "2016-03-20",
         11
        ],
        [
         "2016-07-13",
         44
        ],
        [
         "2016-09-08",
         139
        ],
        [
         "2016-10-21",
         125
        ],
        [
         "2016-05-08",
         15
        ],
        [
         "2016-09-01",
         83
        ],
        [
         "2016-02-25",
         15
        ],
        [
         "2016-03-16",
         7
        ],
        [
         "2016-04-08",
         13
        ],
        [
         "2016-12-25",
         163
        ],
        [
         "2016-11-21",
         147
        ],
        [
         "2016-12-31",
         195
        ],
        [
         "2016-09-25",
         100
        ],
        [
         "2016-03-19",
         11
        ],
        [
         "2016-08-30",
         131
        ],
        [
         "2016-10-29",
         109
        ],
        [
         "2016-04-02",
         13
        ],
        [
         "2016-08-07",
         140
        ],
        [
         "2016-11-06",
         125
        ],
        [
         "2016-10-26",
         154
        ],
        [
         "2016-03-31",
         10
        ],
        [
         "2016-09-02",
         140
        ],
        [
         "2016-02-18",
         13
        ],
        [
         "2016-07-10",
         34
        ],
        [
         "2016-07-16",
         40
        ],
        [
         "2016-12-30",
         158
        ],
        [
         "2016-05-12",
         13
        ],
        [
         "2016-12-17",
         165
        ],
        [
         "2016-07-24",
         85
        ],
        [
         "2016-02-28",
         8
        ],
        [
         "2016-12-02",
         172
        ],
        [
         "2016-01-24",
         7
        ],
        [
         "2016-08-27",
         112
        ],
        [
         "2016-10-09",
         142
        ],
        [
         "2016-05-01",
         13
        ],
        [
         "2016-08-18",
         137
        ],
        [
         "2016-11-07",
         153
        ],
        [
         "2016-12-18",
         182
        ],
        [
         "2016-02-12",
         10
        ],
        [
         "2016-04-20",
         9
        ],
        [
         "2016-09-16",
         102
        ],
        [
         "2016-11-04",
         136
        ],
        [
         "2016-12-29",
         181
        ],
        [
         "2016-03-02",
         10
        ],
        [
         "2016-08-04",
         99
        ],
        [
         "2016-12-27",
         131
        ],
        [
         "2016-06-05",
         7
        ],
        [
         "2016-06-14",
         11
        ],
        [
         "2016-12-05",
         167
        ],
        [
         "2016-04-13",
         18
        ],
        [
         "2016-09-13",
         168
        ],
        [
         "2016-10-14",
         143
        ],
        [
         "2016-04-09",
         10
        ],
        [
         "2016-07-29",
         64
        ],
        [
         "2016-08-21",
         115
        ],
        [
         "2016-08-22",
         62
        ],
        [
         "2016-09-24",
         107
        ],
        [
         "2016-05-02",
         11
        ],
        [
         "2016-07-08",
         38
        ],
        [
         "2016-08-29",
         147
        ],
        [
         "2016-01-03",
         7
        ],
        [
         "2016-07-04",
         58
        ],
        [
         "2016-10-11",
         117
        ],
        [
         "2016-03-24",
         5
        ],
        [
         "2016-08-14",
         128
        ],
        [
         "2016-11-23",
         116
        ],
        [
         "2016-07-12",
         47
        ],
        [
         "2016-12-11",
         178
        ],
        [
         "2016-01-21",
         7
        ],
        [
         "2016-04-17",
         16
        ],
        [
         "2016-07-30",
         31
        ],
        [
         "2016-03-04",
         6
        ],
        [
         "2016-08-08",
         180
        ],
        [
         "2016-01-27",
         3
        ],
        [
         "2016-11-18",
         161
        ],
        [
         "2016-04-01",
         11
        ],
        [
         "2016-07-14",
         39
        ],
        [
         "2016-11-01",
         119
        ],
        [
         "2016-01-14",
         6
        ],
        [
         "2016-06-18",
         8
        ],
        [
         "2016-08-09",
         124
        ],
        [
         "2016-03-21",
         5
        ],
        [
         "2016-05-15",
         8
        ],
        [
         "2016-06-10",
         14
        ],
        [
         "2016-10-12",
         121
        ],
        [
         "2016-02-19",
         10
        ],
        [
         "2016-02-21",
         13
        ],
        [
         "2016-03-26",
         8
        ],
        [
         "2016-04-07",
         11
        ],
        [
         "2016-11-28",
         153
        ],
        [
         "2016-05-16",
         8
        ],
        [
         "2016-11-17",
         139
        ],
        [
         "2016-09-03",
         115
        ],
        [
         "2016-10-16",
         89
        ],
        [
         "2016-05-14",
         12
        ],
        [
         "2016-06-23",
         9
        ],
        [
         "2016-10-22",
         161
        ],
        [
         "2016-08-02",
         104
        ],
        [
         "2016-12-04",
         166
        ],
        [
         "2016-02-13",
         10
        ],
        [
         "2016-04-12",
         7
        ],
        [
         "2016-07-27",
         40
        ],
        [
         "2016-02-26",
         7
        ],
        [
         "2016-05-10",
         6
        ],
        [
         "2016-09-17",
         129
        ],
        [
         "2016-05-17",
         8
        ],
        [
         "2016-11-27",
         152
        ],
        [
         "2016-04-03",
         5
        ],
        [
         "2016-10-13",
         118
        ],
        [
         "2016-02-02",
         10
        ],
        [
         "2016-11-26",
         136
        ],
        [
         "2016-12-06",
         193
        ],
        [
         "2016-03-10",
         5
        ],
        [
         "2016-06-24",
         10
        ],
        [
         "2016-11-02",
         126
        ],
        [
         "2016-12-14",
         150
        ],
        [
         "2016-02-07",
         8
        ],
        [
         "2016-09-19",
         170
        ],
        [
         "2016-08-11",
         91
        ],
        [
         "2016-10-10",
         129
        ],
        [
         "2016-01-17",
         7
        ],
        [
         "2016-10-19",
         112
        ],
        [
         "2016-01-12",
         7
        ],
        [
         "2016-06-09",
         6
        ],
        [
         "2016-07-11",
         69
        ],
        [
         "2016-11-10",
         140
        ],
        [
         "2016-01-08",
         10
        ],
        [
         "2016-05-04",
         9
        ],
        [
         "2016-02-17",
         12
        ],
        [
         "2016-02-23",
         3
        ],
        [
         "2016-07-18",
         21
        ],
        [
         "2016-11-05",
         119
        ],
        [
         "2016-12-10",
         122
        ],
        [
         "2016-09-10",
         118
        ],
        [
         "2016-03-28",
         13
        ],
        [
         "2016-05-30",
         15
        ],
        [
         "2016-11-29",
         160
        ],
        [
         "2016-04-15",
         9
        ],
        [
         "2016-04-28",
         8
        ],
        [
         "2016-12-09",
         148
        ],
        [
         "2016-01-30",
         6
        ],
        [
         "2016-03-15",
         5
        ],
        [
         "2016-04-24",
         14
        ],
        [
         "2016-04-23",
         6
        ],
        [
         "2016-03-08",
         14
        ],
        [
         "2016-06-26",
         8
        ],
        [
         "2016-12-16",
         130
        ],
        [
         "2016-03-06",
         6
        ],
        [
         "2016-05-19",
         7
        ],
        [
         "2016-07-07",
         45
        ],
        [
         "2016-01-22",
         10
        ],
        [
         "2016-02-10",
         5
        ],
        [
         "2016-02-24",
         11
        ],
        [
         "2016-07-01",
         35
        ],
        [
         "2016-07-23",
         34
        ],
        [
         "2016-01-02",
         12
        ],
        [
         "2016-09-06",
         106
        ],
        [
         "2016-01-31",
         8
        ],
        [
         "2016-03-17",
         8
        ],
        [
         "2016-04-05",
         10
        ],
        [
         "2016-08-17",
         124
        ],
        [
         "2016-02-05",
         8
        ],
        [
         "2016-06-21",
         15
        ],
        [
         "2016-08-24",
         166
        ],
        [
         "2016-09-21",
         133
        ],
        [
         "2016-10-08",
         180
        ],
        [
         "2016-04-06",
         5
        ],
        [
         "2016-05-24",
         15
        ],
        [
         "2016-03-30",
         10
        ],
        [
         "2016-10-28",
         119
        ],
        [
         "2016-12-08",
         162
        ],
        [
         "2016-06-03",
         8
        ],
        [
         "2016-06-30",
         10
        ],
        [
         "2016-07-06",
         24
        ],
        [
         "2016-07-20",
         72
        ],
        [
         "2016-03-13",
         6
        ],
        [
         "2016-03-05",
         17
        ],
        [
         "2016-03-07",
         9
        ],
        [
         "2016-06-28",
         13
        ],
        [
         "2016-12-24",
         170
        ],
        [
         "2016-01-23",
         14
        ],
        [
         "2016-10-05",
         148
        ],
        [
         "2016-02-06",
         14
        ],
        [
         "2016-03-12",
         19
        ],
        [
         "2016-01-04",
         8
        ],
        [
         "2016-05-20",
         9
        ],
        [
         "2016-06-12",
         11
        ],
        [
         "2016-07-05",
         39
        ],
        [
         "2016-10-31",
         118
        ],
        [
         "2016-11-13",
         136
        ],
        [
         "2016-12-28",
         161
        ],
        [
         "2016-02-14",
         10
        ],
        [
         "2016-05-29",
         8
        ],
        [
         "2016-11-12",
         132
        ],
        [
         "2016-06-11",
         10
        ],
        [
         "2016-09-28",
         121
        ],
        [
         "2016-05-25",
         7
        ],
        [
         "2016-01-15",
         10
        ],
        [
         "2016-01-25",
         4
        ],
        [
         "2016-12-01",
         167
        ],
        [
         "2016-02-20",
         10
        ],
        [
         "2016-06-25",
         9
        ],
        [
         "2016-10-04",
         112
        ],
        [
         "2016-02-01",
         10
        ],
        [
         "2016-11-20",
         87
        ],
        [
         "2016-01-16",
         11
        ],
        [
         "2016-07-22",
         45
        ],
        [
         "2016-11-11",
         85
        ],
        [
         "2016-04-21",
         5
        ],
        [
         "2016-08-25",
         152
        ],
        [
         "2016-01-10",
         10
        ],
        [
         "2016-03-09",
         5
        ],
        [
         "2016-01-18",
         7
        ],
        [
         "2016-05-22",
         12
        ],
        [
         "2016-07-28",
         39
        ],
        [
         "2016-09-20",
         136
        ],
        [
         "2016-09-29",
         81
        ],
        [
         "2016-02-16",
         4
        ],
        [
         "2016-02-27",
         3
        ],
        [
         "2016-01-07",
         9
        ],
        [
         "2016-10-18",
         140
        ],
        [
         "2016-10-25",
         124
        ],
        [
         "2016-01-09",
         9
        ],
        [
         "2016-04-10",
         6
        ],
        [
         "2016-09-07",
         137
        ],
        [
         "2016-10-01",
         127
        ],
        [
         "2016-12-23",
         159
        ],
        [
         "2016-05-18",
         2
        ],
        [
         "2016-06-01",
         15
        ],
        [
         "2016-06-04",
         8
        ],
        [
         "2016-06-20",
         10
        ],
        [
         "2016-09-04",
         136
        ],
        [
         "2016-10-15",
         158
        ],
        [
         "2016-12-26",
         175
        ],
        [
         "2016-04-27",
         10
        ],
        [
         "2016-07-25",
         39
        ],
        [
         "2016-11-03",
         172
        ],
        [
         "2016-05-06",
         15
        ],
        [
         "2016-06-07",
         11
        ],
        [
         "2016-08-28",
         122
        ],
        [
         "2016-09-11",
         87
        ],
        [
         "2016-03-18",
         15
        ],
        [
         "2016-12-07",
         237
        ],
        [
         "2016-07-09",
         58
        ],
        [
         "2016-11-09",
         125
        ],
        [
         "2016-03-29",
         10
        ],
        [
         "2016-03-23",
         6
        ],
        [
         "2016-06-06",
         11
        ],
        [
         "2016-07-15",
         59
        ],
        [
         "2016-11-22",
         170
        ],
        [
         "2016-10-02",
         157
        ],
        [
         "2016-11-16",
         117
        ],
        [
         "2015-03-09",
         6
        ],
        [
         "2015-05-19",
         6
        ],
        [
         "2015-03-06",
         9
        ],
        [
         "2015-04-09",
         5
        ],
        [
         "2015-09-02",
         7
        ],
        [
         "2015-12-22",
         12
        ],
        [
         "2015-05-10",
         3
        ],
        [
         "2015-09-28",
         2
        ],
        [
         "2015-03-12",
         5
        ],
        [
         "2015-03-16",
         5
        ],
        [
         "2015-04-01",
         5
        ],
        [
         "2015-04-24",
         3
        ],
        [
         "2015-03-11",
         6
        ],
        [
         "2015-06-15",
         6
        ],
        [
         "2015-10-16",
         9
        ],
        [
         "2015-11-02",
         4
        ],
        [
         "2015-11-27",
         14
        ],
        [
         "2015-12-31",
         7
        ],
        [
         "2015-08-01",
         9
        ],
        [
         "2015-04-19",
         4
        ],
        [
         "2015-10-30",
         12
        ],
        [
         "2015-12-29",
         14
        ],
        [
         "2015-06-19",
         13
        ],
        [
         "2015-10-13",
         13
        ],
        [
         "2015-04-07",
         9
        ],
        [
         "2015-08-24",
         10
        ],
        [
         "2015-09-29",
         7
        ],
        [
         "2015-01-20",
         6
        ],
        [
         "2015-09-06",
         4
        ],
        [
         "2015-09-21",
         5
        ],
        [
         "2015-12-05",
         13
        ],
        [
         "2015-04-28",
         7
        ],
        [
         "2015-06-22",
         5
        ],
        [
         "2015-11-21",
         7
        ],
        [
         "2015-05-16",
         11
        ],
        [
         "2015-12-30",
         7
        ],
        [
         "2015-09-20",
         7
        ],
        [
         "2015-02-25",
         5
        ],
        [
         "2015-03-21",
         4
        ],
        [
         "2015-09-15",
         4
        ],
        [
         "2015-11-30",
         9
        ],
        [
         "2015-02-03",
         7
        ],
        [
         "2015-02-09",
         2
        ],
        [
         "2015-02-17",
         4
        ],
        [
         "2015-09-04",
         6
        ],
        [
         "2015-05-25",
         9
        ],
        [
         "2015-09-17",
         5
        ],
        [
         "2015-02-04",
         7
        ],
        [
         "2015-06-23",
         15
        ],
        [
         "2015-02-07",
         6
        ],
        [
         "2015-05-06",
         8
        ],
        [
         "2015-02-01",
         5
        ],
        [
         "2015-12-06",
         5
        ],
        [
         "2015-07-21",
         10
        ],
        [
         "2015-08-10",
         4
        ],
        [
         "2015-09-10",
         9
        ],
        [
         "2015-10-24",
         9
        ],
        [
         "2015-02-10",
         9
        ],
        [
         "2015-03-22",
         6
        ],
        [
         "2015-04-18",
         7
        ],
        [
         "2015-01-24",
         8
        ],
        [
         "2015-04-08",
         3
        ],
        [
         "2015-05-03",
         4
        ],
        [
         "2015-09-07",
         2
        ],
        [
         "2015-09-09",
         9
        ],
        [
         "2015-11-15",
         2
        ],
        [
         "2015-05-18",
         8
        ],
        [
         "2015-06-05",
         6
        ],
        [
         "2015-06-09",
         5
        ],
        [
         "2015-12-17",
         11
        ],
        [
         "2015-06-24",
         7
        ],
        [
         "2015-07-06",
         10
        ],
        [
         "2015-01-23",
         3
        ],
        [
         "2015-08-21",
         10
        ],
        [
         "2015-07-27",
         10
        ],
        [
         "2015-05-23",
         7
        ],
        [
         "2015-07-24",
         5
        ],
        [
         "2015-08-02",
         8
        ],
        [
         "2015-12-11",
         13
        ],
        [
         "2015-04-22",
         4
        ],
        [
         "2015-06-27",
         9
        ],
        [
         "2015-11-17",
         6
        ],
        [
         "2015-06-11",
         5
        ],
        [
         "2015-11-06",
         8
        ],
        [
         "2015-03-19",
         4
        ],
        [
         "2015-08-17",
         10
        ],
        [
         "2015-03-13",
         10
        ],
        [
         "2015-05-21",
         6
        ],
        [
         "2015-06-01",
         4
        ],
        [
         "2015-11-08",
         7
        ],
        [
         "2015-04-11",
         6
        ],
        [
         "2015-11-28",
         6
        ],
        [
         "2015-01-11",
         9
        ],
        [
         "2015-09-16",
         5
        ],
        [
         "2015-10-08",
         7
        ],
        [
         "2015-10-28",
         6
        ],
        [
         "2015-04-15",
         13
        ],
        [
         "2015-08-08",
         8
        ],
        [
         "2015-04-27",
         9
        ],
        [
         "2015-04-16",
         7
        ],
        [
         "2015-10-11",
         7
        ],
        [
         "2015-08-19",
         11
        ],
        [
         "2015-10-25",
         7
        ],
        [
         "2015-11-07",
         5
        ],
        [
         "2015-09-19",
         9
        ],
        [
         "2015-11-25",
         8
        ],
        [
         "2015-06-26",
         7
        ],
        [
         "2015-07-12",
         7
        ],
        [
         "2015-07-11",
         12
        ],
        [
         "2015-10-12",
         11
        ],
        [
         "2015-01-10",
         4
        ],
        [
         "2015-01-22",
         9
        ],
        [
         "2015-10-18",
         7
        ],
        [
         "2015-11-22",
         4
        ],
        [
         "2015-12-01",
         11
        ],
        [
         "2015-03-15",
         10
        ],
        [
         "2015-07-29",
         6
        ],
        [
         "2015-12-08",
         11
        ],
        [
         "2015-04-14",
         3
        ],
        [
         "2015-01-29",
         4
        ],
        [
         "2015-03-18",
         8
        ],
        [
         "2015-04-29",
         11
        ],
        [
         "2015-01-08",
         8
        ],
        [
         "2015-01-26",
         4
        ],
        [
         "2015-06-06",
         7
        ],
        [
         "2015-03-01",
         6
        ],
        [
         "2015-08-06",
         12
        ],
        [
         "2015-12-12",
         17
        ],
        [
         "2015-08-31",
         12
        ],
        [
         "2015-07-10",
         7
        ],
        [
         "2015-01-17",
         8
        ],
        [
         "2015-07-18",
         7
        ],
        [
         "2015-12-02",
         9
        ],
        [
         "2015-04-20",
         11
        ],
        [
         "2015-10-20",
         9
        ],
        [
         "2015-12-26",
         8
        ],
        [
         "2015-12-27",
         9
        ],
        [
         "2015-05-09",
         6
        ],
        [
         "2015-01-15",
         7
        ],
        [
         "2015-07-15",
         4
        ],
        [
         "2015-12-15",
         5
        ],
        [
         "2015-01-25",
         4
        ],
        [
         "2015-05-29",
         1
        ],
        [
         "2015-11-04",
         1
        ],
        [
         "2015-11-26",
         6
        ],
        [
         "2015-12-04",
         3
        ],
        [
         "2015-12-23",
         12
        ],
        [
         "2015-02-11",
         12
        ],
        [
         "2015-12-07",
         17
        ],
        [
         "2015-01-14",
         9
        ],
        [
         "2015-12-10",
         9
        ],
        [
         "2015-05-11",
         4
        ],
        [
         "2015-02-28",
         5
        ],
        [
         "2015-03-05",
         3
        ],
        [
         "2015-03-28",
         8
        ],
        [
         "2015-10-07",
         6
        ],
        [
         "2015-07-30",
         10
        ],
        [
         "2015-04-23",
         10
        ],
        [
         "2015-07-13",
         12
        ],
        [
         "2015-08-30",
         8
        ],
        [
         "2015-05-05",
         3
        ],
        [
         "2015-09-22",
         5
        ],
        [
         "2015-10-14",
         6
        ],
        [
         "2015-02-20",
         5
        ],
        [
         "2015-06-20",
         7
        ],
        [
         "2015-07-01",
         8
        ],
        [
         "2015-10-03",
         7
        ],
        [
         "2015-12-24",
         12
        ],
        [
         "2015-01-30",
         10
        ],
        [
         "2015-02-14",
         8
        ],
        [
         "2015-04-02",
         3
        ],
        [
         "2015-06-25",
         4
        ],
        [
         "2015-04-25",
         8
        ],
        [
         "2015-07-08",
         6
        ],
        [
         "2015-12-25",
         8
        ],
        [
         "2015-05-14",
         6
        ],
        [
         "2015-08-14",
         10
        ],
        [
         "2015-01-03",
         8
        ],
        [
         "2015-01-06",
         6
        ],
        [
         "2015-10-27",
         3
        ],
        [
         "2015-12-19",
         14
        ],
        [
         "2015-03-24",
         12
        ],
        [
         "2015-04-13",
         4
        ],
        [
         "2015-02-24",
         9
        ],
        [
         "2015-05-22",
         5
        ],
        [
         "2015-07-17",
         11
        ],
        [
         "2015-07-31",
         9
        ],
        [
         "2015-09-03",
         8
        ],
        [
         "2015-08-16",
         5
        ],
        [
         "2015-09-12",
         7
        ],
        [
         "2015-11-11",
         11
        ],
        [
         "2015-04-06",
         5
        ],
        [
         "2015-05-13",
         13
        ],
        [
         "2015-09-05",
         3
        ],
        [
         "2015-10-26",
         9
        ],
        [
         "2015-06-17",
         6
        ],
        [
         "2015-08-03",
         5
        ],
        [
         "2015-08-20",
         12
        ],
        [
         "2015-09-23",
         7
        ],
        [
         "2015-03-02",
         7
        ],
        [
         "2015-08-27",
         11
        ],
        [
         "2015-09-14",
         9
        ],
        [
         "2015-12-20",
         14
        ],
        [
         "2015-08-22",
         10
        ],
        [
         "2015-10-17",
         6
        ],
        [
         "2015-04-03",
         9
        ],
        [
         "2015-09-26",
         10
        ],
        [
         "2015-10-21",
         9
        ],
        [
         "2015-11-19",
         4
        ],
        [
         "2015-10-01",
         8
        ],
        [
         "2015-10-02",
         8
        ],
        [
         "2015-05-12",
         8
        ],
        [
         "2015-07-23",
         7
        ],
        [
         "2015-05-02",
         5
        ],
        [
         "2015-07-20",
         9
        ],
        [
         "2015-12-14",
         16
        ],
        [
         "2015-03-04",
         8
        ],
        [
         "2015-03-23",
         5
        ],
        [
         "2015-04-17",
         9
        ],
        [
         "2015-08-09",
         8
        ],
        [
         "2015-10-19",
         10
        ],
        [
         "2015-12-09",
         7
        ],
        [
         "2015-02-23",
         5
        ],
        [
         "2015-03-14",
         4
        ],
        [
         "2015-11-03",
         6
        ],
        [
         "2015-06-04",
         6
        ],
        [
         "2015-02-27",
         3
        ],
        [
         "2015-07-28",
         5
        ],
        [
         "2015-06-28",
         5
        ],
        [
         "2015-02-13",
         6
        ],
        [
         "2015-03-17",
         9
        ],
        [
         "2015-04-12",
         11
        ],
        [
         "2015-10-09",
         3
        ],
        [
         "2015-06-03",
         3
        ],
        [
         "2015-02-26",
         11
        ],
        [
         "2015-06-07",
         8
        ],
        [
         "2015-07-22",
         7
        ],
        [
         "2015-09-24",
         9
        ],
        [
         "2015-11-20",
         9
        ],
        [
         "2015-03-26",
         9
        ],
        [
         "2015-10-22",
         7
        ],
        [
         "2015-05-24",
         8
        ],
        [
         "2015-01-05",
         3
        ],
        [
         "2015-06-21",
         9
        ],
        [
         "2015-07-04",
         9
        ],
        [
         "2015-07-26",
         5
        ],
        [
         "2015-12-16",
         11
        ],
        [
         "2015-05-28",
         5
        ],
        [
         "2015-08-26",
         13
        ],
        [
         "2015-02-19",
         5
        ],
        [
         "2015-08-12",
         9
        ],
        [
         "2015-02-02",
         6
        ],
        [
         "2015-01-04",
         5
        ],
        [
         "2015-09-13",
         11
        ],
        [
         "2015-11-10",
         7
        ],
        [
         "2015-04-26",
         4
        ],
        [
         "2015-02-06",
         10
        ],
        [
         "2015-09-30",
         9
        ],
        [
         "2015-04-30",
         13
        ],
        [
         "2015-10-29",
         6
        ],
        [
         "2015-01-16",
         7
        ],
        [
         "2015-03-20",
         9
        ],
        [
         "2015-05-31",
         3
        ],
        [
         "2015-07-09",
         5
        ],
        [
         "2015-08-13",
         12
        ],
        [
         "2015-02-15",
         6
        ],
        [
         "2015-09-01",
         2
        ],
        [
         "2015-09-27",
         3
        ],
        [
         "2015-10-04",
         6
        ],
        [
         "2015-10-31",
         5
        ],
        [
         "2015-01-19",
         6
        ],
        [
         "2015-11-13",
         4
        ],
        [
         "2015-03-08",
         4
        ],
        [
         "2015-09-08",
         9
        ],
        [
         "2015-04-21",
         5
        ],
        [
         "2015-06-30",
         6
        ],
        [
         "2015-07-02",
         3
        ],
        [
         "2015-08-07",
         11
        ],
        [
         "2015-02-05",
         6
        ],
        [
         "2015-02-16",
         3
        ],
        [
         "2015-05-01",
         12
        ],
        [
         "2015-07-16",
         6
        ],
        [
         "2015-01-02",
         4
        ],
        [
         "2015-01-21",
         7
        ],
        [
         "2015-04-10",
         5
        ],
        [
         "2015-10-23",
         7
        ],
        [
         "2015-02-18",
         2
        ],
        [
         "2015-06-13",
         4
        ],
        [
         "2015-12-13",
         12
        ],
        [
         "2015-01-13",
         3
        ],
        [
         "2015-01-12",
         7
        ],
        [
         "2015-11-29",
         6
        ],
        [
         "2015-03-07",
         9
        ],
        [
         "2015-07-19",
         7
        ],
        [
         "2015-11-18",
         7
        ],
        [
         "2015-05-26",
         5
        ],
        [
         "2015-08-11",
         5
        ],
        [
         "2015-12-21",
         3
        ],
        [
         "2015-12-03",
         16
        ],
        [
         "2015-06-12",
         12
        ],
        [
         "2015-03-10",
         2
        ],
        [
         "2015-07-25",
         9
        ],
        [
         "2015-05-15",
         7
        ],
        [
         "2015-10-05",
         3
        ],
        [
         "2015-03-27",
         3
        ],
        [
         "2015-05-04",
         11
        ],
        [
         "2015-11-24",
         10
        ],
        [
         "2015-07-14",
         9
        ],
        [
         "2015-10-10",
         4
        ],
        [
         "2015-02-12",
         3
        ],
        [
         "2015-07-03",
         13
        ],
        [
         "2015-09-11",
         8
        ],
        [
         "2015-12-28",
         10
        ],
        [
         "2015-02-22",
         10
        ],
        [
         "2015-05-20",
         6
        ],
        [
         "2015-08-04",
         8
        ],
        [
         "2015-01-28",
         5
        ],
        [
         "2015-03-31",
         4
        ],
        [
         "2015-05-27",
         5
        ],
        [
         "2015-08-05",
         7
        ],
        [
         "2015-08-25",
         11
        ],
        [
         "2015-06-14",
         4
        ],
        [
         "2015-01-01",
         4
        ],
        [
         "2015-02-21",
         1
        ],
        [
         "2015-03-25",
         5
        ],
        [
         "2015-01-18",
         6
        ],
        [
         "2015-03-30",
         4
        ],
        [
         "2015-07-05",
         10
        ],
        [
         "2015-11-09",
         4
        ],
        [
         "2015-03-29",
         6
        ],
        [
         "2015-08-18",
         8
        ],
        [
         "2015-01-09",
         4
        ],
        [
         "2015-08-28",
         8
        ],
        [
         "2015-01-27",
         5
        ],
        [
         "2015-02-08",
         4
        ],
        [
         "2015-05-08",
         10
        ],
        [
         "2015-06-08",
         8
        ],
        [
         "2015-12-18",
         10
        ],
        [
         "2015-04-05",
         4
        ],
        [
         "2015-06-16",
         2
        ],
        [
         "2015-08-29",
         6
        ],
        [
         "2015-08-23",
         5
        ],
        [
         "2015-06-29",
         8
        ],
        [
         "2015-11-01",
         6
        ],
        [
         "2015-04-04",
         7
        ],
        [
         "2015-06-02",
         12
        ],
        [
         "2015-09-18",
         9
        ],
        [
         "2015-10-15",
         6
        ],
        [
         "2015-01-07",
         4
        ],
        [
         "2015-03-03",
         8
        ],
        [
         "2015-05-30",
         7
        ],
        [
         "2015-09-25",
         6
        ],
        [
         "2015-11-23",
         5
        ],
        [
         "2015-05-07",
         5
        ],
        [
         "2015-11-12",
         6
        ],
        [
         "2015-11-14",
         5
        ],
        [
         "2015-11-16",
         8
        ],
        [
         "2015-06-18",
         11
        ],
        [
         "2015-07-07",
         9
        ],
        [
         "2015-01-31",
         7
        ],
        [
         "2015-08-15",
         12
        ],
        [
         "2015-10-06",
         7
        ],
        [
         "2015-11-05",
         6
        ],
        [
         "2015-05-17",
         9
        ],
        [
         "2015-06-10",
         8
        ]
       ],
       "datasetInfos": [],
       "dbfsResultPath": null,
       "isJsonSchema": true,
       "metadata": {},
       "overflow": false,
       "plotOptions": {
        "customPlotOptions": {},
        "displayType": "table",
        "pivotAggregation": null,
        "pivotColumns": null,
        "xColumns": null,
        "yColumns": null
       },
       "removedWidgets": [],
       "schema": [
        {
         "metadata": "{\"__detected_date_formats\":\"M/d/yyyy\"}",
         "name": "OrderDate",
         "type": "\"date\""
        },
        {
         "metadata": "{}",
         "name": "total_orders_per_day",
         "type": "\"long\""
        }
       ],
       "type": "table"
      }
     },
     "output_type": "display_data"
    },
    {
     "output_type": "display_data",
     "data": {
      "text/plain": [
       "Databricks visualization. Run in Databricks to view."
      ]
     },
     "metadata": {
      "application/vnd.databricks.v1.subcommand+json": {
       "baseErrorDetails": null,
       "bindings": {},
       "collapsed": false,
       "command": "%python\n__backend_agg_display_orig = display\n__backend_agg_dfs = []\ndef __backend_agg_display_new(df):\n    __backend_agg_df_modules = [\"pandas.core.frame\", \"databricks.koalas.frame\", \"pyspark.sql.dataframe\", \"pyspark.pandas.frame\", \"pyspark.sql.connect.dataframe\"]\n    if (type(df).__module__ in __backend_agg_df_modules and type(df).__name__ == 'DataFrame') or isinstance(df, list):\n        __backend_agg_dfs.append(df)\n\ndisplay = __backend_agg_display_new\n\ndef __backend_agg_user_code_fn():\n    import base64\n    exec(base64.standard_b64decode(\"IyBUbyBnZXQgdGhlIG5vIG9mIG9yZGVycyByZWNlaXZlZCBldmVyeSBkYXkgYW5kIHZpc3VhbGl6ZSB0aGUgcmVzdWx0CgpkZl9zYWxlcy5ncm91cEJ5KCdPcmRlckRhdGUnKS5hZ2coY291bnQoJ09yZGVyTnVtYmVyJykuYWxpYXMoJ3RvdGFsX29yZGVyc19wZXJfZGF5JykpLmRpc3BsYXkoKQ==\").decode())\n\ntry:\n    # run user code\n    __backend_agg_user_code_fn()\n\n    #reset display function\n    display = __backend_agg_display_orig\n\n    if len(__backend_agg_dfs) > 0:\n        # create a temp view\n        if type(__backend_agg_dfs[0]).__module__ == \"databricks.koalas.frame\":\n            # koalas dataframe\n            __backend_agg_dfs[0].to_spark().createOrReplaceTempView(\"DatabricksView63201c2\")\n        elif type(__backend_agg_dfs[0]).__module__ == \"pandas.core.frame\" or isinstance(__backend_agg_dfs[0], list):\n            # pandas dataframe\n            spark.createDataFrame(__backend_agg_dfs[0]).createOrReplaceTempView(\"DatabricksView63201c2\")\n        else:\n            __backend_agg_dfs[0].createOrReplaceTempView(\"DatabricksView63201c2\")\n        #run backend agg\n        display(spark.sql(\"\"\"WITH q AS (select * from DatabricksView63201c2) SELECT `OrderDate`,SUM(`total_orders_per_day`) `column_45c49293155` FROM q GROUP BY `OrderDate`\"\"\"))\n    else:\n        displayHTML(\"dataframe no longer exists. If you're using dataframe.display(), use display(dataframe) instead.\")\n\n\nfinally:\n    spark.sql(\"drop view if exists DatabricksView63201c2\")\n    display = __backend_agg_display_orig\n    del __backend_agg_display_new\n    del __backend_agg_display_orig\n    del __backend_agg_dfs\n    del __backend_agg_user_code_fn\n\n",
       "commandTitle": "Visualization 1",
       "commandType": "auto",
       "commandVersion": 0,
       "commentThread": [],
       "commentsVisible": false,
       "contentSha256Hex": null,
       "customPlotOptions": {
        "redashChart": [
         {
          "key": "type",
          "value": "CHART"
         },
         {
          "key": "options",
          "value": {
           "alignYAxesAtZero": true,
           "coefficient": 1,
           "columnConfigurationMap": {
            "x": {
             "column": "OrderDate",
             "id": "column_45c49293154"
            },
            "y": [
             {
              "column": "total_orders_per_day",
              "id": "column_45c49293155",
              "transform": "SUM"
             }
            ]
           },
           "dateTimeFormat": "DD/MM/YYYY HH:mm",
           "direction": {
            "type": "counterclockwise"
           },
           "error_y": {
            "type": "data",
            "visible": true
           },
           "globalSeriesType": "line",
           "legend": {
            "traceorder": "normal"
           },
           "missingValuesAsZero": true,
           "numberFormat": "0,0.[00000]",
           "percentFormat": "0[.]00%",
           "series": {
            "error_y": {
             "type": "data",
             "visible": true
            },
            "stacking": null
           },
           "seriesOptions": {
            "column_45c49293155": {
             "name": "total_orders_per_day",
             "type": "line",
             "yAxis": 0
            }
           },
           "showDataLabels": false,
           "sizemode": "diameter",
           "sortX": true,
           "sortY": true,
           "swappedAxes": false,
           "textFormat": "",
           "useAggregationsUi": true,
           "valuesOptions": {},
           "version": 2,
           "xAxis": {
            "labels": {
             "enabled": true
            },
            "type": "-"
           },
           "yAxis": [
            {
             "type": "-"
            },
            {
             "opposite": true,
             "type": "-"
            }
           ]
          }
         }
        ]
       },
       "datasetPreviewNameToCmdIdMap": {},
       "diffDeletes": [],
       "diffInserts": [],
       "displayType": "redashChart",
       "error": null,
       "errorDetails": null,
       "errorSummary": null,
       "errorTraceType": null,
       "finishTime": 0,
       "globalVars": {},
       "guid": "",
       "height": "auto",
       "hideCommandCode": false,
       "hideCommandResult": false,
       "iPythonMetadata": null,
       "inputWidgets": {},
       "isLockedInExamMode": false,
       "latestUser": "a user",
       "latestUserId": null,
       "listResultMetadata": null,
       "metadata": {
        "byteLimit": 2048000,
        "rowLimit": 10000
       },
       "nuid": "3ce03d9d-d864-4158-8f2d-77cd55da52f8",
       "origId": 0,
       "parentHierarchy": [],
       "pivotAggregation": null,
       "pivotColumns": null,
       "position": 10.0,
       "resultDbfsErrorMessage": null,
       "resultDbfsStatus": "INLINED_IN_TREE",
       "results": null,
       "showCommandTitle": false,
       "startTime": 0,
       "state": "finished",
       "streamStates": {},
       "subcommandOptions": {
        "queryPlan": {
         "groups": [
          {
           "column": "OrderDate",
           "type": "column"
          }
         ],
         "selects": [
          {
           "column": "OrderDate",
           "type": "column"
          },
          {
           "alias": "column_45c49293155",
           "args": [
            {
             "column": "total_orders_per_day",
             "type": "column"
            }
           ],
           "function": "SUM",
           "type": "function"
          }
         ]
        }
       },
       "submitTime": 0,
       "subtype": "tableResultSubCmd.visualization",
       "tableResultIndex": 0,
       "tableResultSettingsMap": {},
       "useConsistentColors": false,
       "version": "CommandV1",
       "width": "auto",
       "workflows": [],
       "xColumns": null,
       "yColumns": null
      }
     },
     "output_type": "display_data"
    }
   ],
   "source": [
    "# To get the no of orders received every day and visualize the result\n",
    "\n",
    "df_sales.groupBy('OrderDate').agg(count('OrderNumber').alias('total_orders_per_day')).display()"
   ]
  },
  {
   "cell_type": "code",
   "execution_count": 0,
   "metadata": {
    "application/vnd.databricks.v1+cell": {
     "cellMetadata": {
      "byteLimit": 2048000,
      "rowLimit": 10000
     },
     "inputWidgets": {},
     "nuid": "523a0c03-ad00-4723-80ba-62c4d33d7a4d",
     "showTitle": false,
     "tableResultSettingsMap": {},
     "title": ""
    }
   },
   "outputs": [
    {
     "output_type": "display_data",
     "data": {
      "text/html": [
       "<style scoped>\n",
       "  .table-result-container {\n",
       "    max-height: 300px;\n",
       "    overflow: auto;\n",
       "  }\n",
       "  table, th, td {\n",
       "    border: 1px solid black;\n",
       "    border-collapse: collapse;\n",
       "  }\n",
       "  th, td {\n",
       "    padding: 5px;\n",
       "  }\n",
       "  th {\n",
       "    text-align: left;\n",
       "  }\n",
       "</style><div class='table-result-container'><table class='table-result'><thead style='background-color: white'><tr><th>CategoryName</th><th>total_orders_per_category</th></tr></thead><tbody><tr><td>Bikes</td><td>13929</td></tr><tr><td>Clothing</td><td>8510</td></tr><tr><td>Accessories</td><td>33607</td></tr></tbody></table></div>"
      ]
     },
     "metadata": {
      "application/vnd.databricks.v1+output": {
       "addedWidgets": {},
       "aggData": [],
       "aggError": "",
       "aggOverflow": false,
       "aggSchema": [],
       "aggSeriesLimitReached": false,
       "aggType": "",
       "arguments": {},
       "columnCustomDisplayInfos": {},
       "data": [
        [
         "Bikes",
         13929
        ],
        [
         "Clothing",
         8510
        ],
        [
         "Accessories",
         33607
        ]
       ],
       "datasetInfos": [],
       "dbfsResultPath": null,
       "isJsonSchema": true,
       "metadata": {},
       "overflow": false,
       "plotOptions": {
        "customPlotOptions": {},
        "displayType": "table",
        "pivotAggregation": null,
        "pivotColumns": null,
        "xColumns": null,
        "yColumns": null
       },
       "removedWidgets": [],
       "schema": [
        {
         "metadata": "{}",
         "name": "CategoryName",
         "type": "\"string\""
        },
        {
         "metadata": "{}",
         "name": "total_orders_per_category",
         "type": "\"long\""
        }
       ],
       "type": "table"
      }
     },
     "output_type": "display_data"
    },
    {
     "output_type": "display_data",
     "data": {
      "text/plain": [
       "Databricks visualization. Run in Databricks to view."
      ]
     },
     "metadata": {
      "application/vnd.databricks.v1.subcommand+json": {
       "baseErrorDetails": null,
       "bindings": {},
       "collapsed": false,
       "command": "%python\n__backend_agg_display_orig = display\n__backend_agg_dfs = []\ndef __backend_agg_display_new(df):\n    __backend_agg_df_modules = [\"pandas.core.frame\", \"databricks.koalas.frame\", \"pyspark.sql.dataframe\", \"pyspark.pandas.frame\", \"pyspark.sql.connect.dataframe\"]\n    if (type(df).__module__ in __backend_agg_df_modules and type(df).__name__ == 'DataFrame') or isinstance(df, list):\n        __backend_agg_dfs.append(df)\n\ndisplay = __backend_agg_display_new\n\ndef __backend_agg_user_code_fn():\n    import base64\n    exec(base64.standard_b64decode(\"IyBUbyBmZXRjaCBhbmQgdmlzdWFsaXplIGRpZmZlcmVudCBjYXRlZ29yaWVzIGFuZCBubyBvZiBvcmRlcnMgYmVsb25naW5nIHRvIHRob3NlIGNhdGVnb3JpZXMKCmRmX3NhbGVzLmFsaWFzKCdzJylcCiAgICAgICAgLmpvaW4oZGZfcHJvZHVjdC5hbGlhcygncCcpLCBvbiA9IGNvbCgncy5Qcm9kdWN0S2V5JykgPT0gY29sKCdwLlByb2R1Y3RLZXknKSwgaG93ID0gJ2xlZnQnKVwKICAgICAgICAuam9pbihkZl9zdWJjYXQuYWxpYXMoJ3NjJyksIG9uID0gY29sKCdzYy5Qcm9kdWN0U3ViY2F0ZWdvcnlLZXknKSA9PSBjb2woJ3AuUHJvZHVjdFN1YmNhdGVnb3J5S2V5JyksIGhvdyA9ICdsZWZ0JylcCiAgICAgICAgLmpvaW4oZGZfY2F0LmFsaWFzKCdjJyksIG9uID0gY29sKCdjLlByb2R1Y3RDYXRlZ29yeUtleScpID09IGNvbCgnc2MuUHJvZHVjdENhdGVnb3J5S2V5JyksIGhvdyA9ICdsZWZ0JylcCiAgICAgICAgLmdyb3VwQnkoY29sKCdjLkNhdGVnb3J5TmFtZScpKVwKICAgICAgICAuYWdnKGNvdW50KGNvbCgnT3JkZXJOdW1iZXInKSkuYWxpYXMoJ3RvdGFsX29yZGVyc19wZXJfY2F0ZWdvcnknKSlcCiAgICAgICAgLmRpc3BsYXkoKQ==\").decode())\n\ntry:\n    # run user code\n    __backend_agg_user_code_fn()\n\n    #reset display function\n    display = __backend_agg_display_orig\n\n    if len(__backend_agg_dfs) > 0:\n        # create a temp view\n        if type(__backend_agg_dfs[0]).__module__ == \"databricks.koalas.frame\":\n            # koalas dataframe\n            __backend_agg_dfs[0].to_spark().createOrReplaceTempView(\"DatabricksViewcbd4df8\")\n        elif type(__backend_agg_dfs[0]).__module__ == \"pandas.core.frame\" or isinstance(__backend_agg_dfs[0], list):\n            # pandas dataframe\n            spark.createDataFrame(__backend_agg_dfs[0]).createOrReplaceTempView(\"DatabricksViewcbd4df8\")\n        else:\n            __backend_agg_dfs[0].createOrReplaceTempView(\"DatabricksViewcbd4df8\")\n        #run backend agg\n        display(spark.sql(\"\"\"WITH q AS (select * from DatabricksViewcbd4df8) SELECT `CategoryName`,SUM(`total_orders_per_category`) `column_45c49293152` FROM q GROUP BY `CategoryName`\"\"\"))\n    else:\n        displayHTML(\"dataframe no longer exists. If you're using dataframe.display(), use display(dataframe) instead.\")\n\n\nfinally:\n    spark.sql(\"drop view if exists DatabricksViewcbd4df8\")\n    display = __backend_agg_display_orig\n    del __backend_agg_display_new\n    del __backend_agg_display_orig\n    del __backend_agg_dfs\n    del __backend_agg_user_code_fn\n\n",
       "commandTitle": "Visualization 1",
       "commandType": "auto",
       "commandVersion": 0,
       "commentThread": [],
       "commentsVisible": false,
       "contentSha256Hex": null,
       "customPlotOptions": {
        "redashChart": [
         {
          "key": "type",
          "value": "CHART"
         },
         {
          "key": "options",
          "value": {
           "alignYAxesAtZero": true,
           "coefficient": 1,
           "columnConfigurationMap": {
            "x": {
             "column": "CategoryName",
             "id": "column_45c49293151"
            },
            "y": [
             {
              "column": "total_orders_per_category",
              "id": "column_45c49293152",
              "transform": "SUM"
             }
            ]
           },
           "dateTimeFormat": "DD/MM/YYYY HH:mm",
           "direction": {
            "type": "counterclockwise"
           },
           "error_y": {
            "type": "data",
            "visible": true
           },
           "globalSeriesType": "pie",
           "legend": {
            "traceorder": "normal"
           },
           "missingValuesAsZero": true,
           "numberFormat": "0,0.[00000]",
           "percentFormat": "0[.]00%",
           "series": {
            "error_y": {
             "type": "data",
             "visible": true
            },
            "stacking": null
           },
           "seriesOptions": {
            "column_45c49293152": {
             "name": "total_orders_per_category",
             "type": "pie",
             "yAxis": 0
            }
           },
           "showDataLabels": true,
           "sizemode": "diameter",
           "sortX": true,
           "sortY": true,
           "swappedAxes": false,
           "textFormat": "",
           "useAggregationsUi": true,
           "valuesOptions": {},
           "version": 2,
           "xAxis": {
            "labels": {
             "enabled": true
            },
            "type": "-"
           },
           "yAxis": [
            {
             "type": "-"
            },
            {
             "opposite": true,
             "type": "-"
            }
           ]
          }
         }
        ]
       },
       "datasetPreviewNameToCmdIdMap": {},
       "diffDeletes": [],
       "diffInserts": [],
       "displayType": "redashChart",
       "error": null,
       "errorDetails": null,
       "errorSummary": null,
       "errorTraceType": null,
       "finishTime": 0,
       "globalVars": {},
       "guid": "",
       "height": "auto",
       "hideCommandCode": false,
       "hideCommandResult": false,
       "iPythonMetadata": null,
       "inputWidgets": {},
       "isLockedInExamMode": false,
       "latestUser": "a user",
       "latestUserId": null,
       "listResultMetadata": null,
       "metadata": {
        "byteLimit": 2048000,
        "rowLimit": 10000
       },
       "nuid": "0d0e2b07-07e1-483c-a436-1bcbd113baec",
       "origId": 0,
       "parentHierarchy": [],
       "pivotAggregation": null,
       "pivotColumns": null,
       "position": 13.0,
       "resultDbfsErrorMessage": null,
       "resultDbfsStatus": "INLINED_IN_TREE",
       "results": null,
       "showCommandTitle": false,
       "startTime": 0,
       "state": "input",
       "streamStates": {},
       "subcommandOptions": {
        "queryPlan": {
         "groups": [
          {
           "column": "CategoryName",
           "type": "column"
          }
         ],
         "selects": [
          {
           "column": "CategoryName",
           "type": "column"
          },
          {
           "alias": "column_45c49293152",
           "args": [
            {
             "column": "total_orders_per_category",
             "type": "column"
            }
           ],
           "function": "SUM",
           "type": "function"
          }
         ]
        }
       },
       "submitTime": 0,
       "subtype": "tableResultSubCmd.visualization",
       "tableResultIndex": 0,
       "tableResultSettingsMap": {},
       "useConsistentColors": false,
       "version": "CommandV1",
       "width": "auto",
       "workflows": [],
       "xColumns": null,
       "yColumns": null
      }
     },
     "output_type": "display_data"
    }
   ],
   "source": [
    "# To fetch and visualize different categories and no of orders belonging to those categories\n",
    "# df_subcat.display()\n",
    "df_sales.alias('s')\\\n",
    "        .join(df_product.alias('p'), on = col('s.ProductKey') == col('p.ProductKey'), how = 'left')\\\n",
    "        .join(df_subcat.alias('sc'), on = col('sc.ProductSubcategoryKey') == col('p.ProductSubcategoryKey'), how = 'left')\\\n",
    "        .join(df_cat.alias('c'), on = col('c.ProductCategoryKey') == col('sc.ProductCategoryKey'), how = 'left')\\\n",
    "        .groupBy(col('c.CategoryName'))\\\n",
    "        .agg(count(col('OrderNumber')).alias('total_orders_per_category'))\\\n",
    "        .display()"
   ]
  },
  {
   "cell_type": "code",
   "execution_count": 0,
   "metadata": {
    "application/vnd.databricks.v1+cell": {
     "cellMetadata": {
      "byteLimit": 2048000,
      "rowLimit": 10000
     },
     "inputWidgets": {},
     "nuid": "61132f4f-4e31-4643-8b28-eb82ec42bc29",
     "showTitle": false,
     "tableResultSettingsMap": {},
     "title": ""
    }
   },
   "outputs": [
    {
     "output_type": "display_data",
     "data": {
      "text/html": [
       "<style scoped>\n",
       "  .table-result-container {\n",
       "    max-height: 300px;\n",
       "    overflow: auto;\n",
       "  }\n",
       "  table, th, td {\n",
       "    border: 1px solid black;\n",
       "    border-collapse: collapse;\n",
       "  }\n",
       "  th, td {\n",
       "    padding: 5px;\n",
       "  }\n",
       "  th {\n",
       "    text-align: left;\n",
       "  }\n",
       "</style><div class='table-result-container'><table class='table-result'><thead style='background-color: white'><tr><th>Continent</th><th>Country</th><th>Region</th><th>total_orders_per_region</th></tr></thead><tbody><tr><td>North America</td><td>United States</td><td>Central</td><td>20</td></tr><tr><td>Europe</td><td>United Kingdom</td><td>United Kingdom</td><td>6423</td></tr><tr><td>North America</td><td>United States</td><td>Northwest</td><td>8267</td></tr><tr><td>North America</td><td>United States</td><td>Southeast</td><td>34</td></tr><tr><td>Pacific</td><td>Australia</td><td>Australia</td><td>12409</td></tr><tr><td>North America</td><td>United States</td><td>Northeast</td><td>27</td></tr><tr><td>North America</td><td>United States</td><td>Southwest</td><td>11463</td></tr><tr><td>North America</td><td>Canada</td><td>Canada</td><td>6875</td></tr><tr><td>Europe</td><td>France</td><td>France</td><td>5239</td></tr><tr><td>Europe</td><td>Germany</td><td>Germany</td><td>5289</td></tr></tbody></table></div>"
      ]
     },
     "metadata": {
      "application/vnd.databricks.v1+output": {
       "addedWidgets": {},
       "aggData": [],
       "aggError": "",
       "aggOverflow": false,
       "aggSchema": [],
       "aggSeriesLimitReached": false,
       "aggType": "",
       "arguments": {},
       "columnCustomDisplayInfos": {},
       "data": [
        [
         "North America",
         "United States",
         "Central",
         20
        ],
        [
         "Europe",
         "United Kingdom",
         "United Kingdom",
         6423
        ],
        [
         "North America",
         "United States",
         "Northwest",
         8267
        ],
        [
         "North America",
         "United States",
         "Southeast",
         34
        ],
        [
         "Pacific",
         "Australia",
         "Australia",
         12409
        ],
        [
         "North America",
         "United States",
         "Northeast",
         27
        ],
        [
         "North America",
         "United States",
         "Southwest",
         11463
        ],
        [
         "North America",
         "Canada",
         "Canada",
         6875
        ],
        [
         "Europe",
         "France",
         "France",
         5239
        ],
        [
         "Europe",
         "Germany",
         "Germany",
         5289
        ]
       ],
       "datasetInfos": [],
       "dbfsResultPath": null,
       "isJsonSchema": true,
       "metadata": {},
       "overflow": false,
       "plotOptions": {
        "customPlotOptions": {},
        "displayType": "table",
        "pivotAggregation": null,
        "pivotColumns": null,
        "xColumns": null,
        "yColumns": null
       },
       "removedWidgets": [],
       "schema": [
        {
         "metadata": "{}",
         "name": "Continent",
         "type": "\"string\""
        },
        {
         "metadata": "{}",
         "name": "Country",
         "type": "\"string\""
        },
        {
         "metadata": "{}",
         "name": "Region",
         "type": "\"string\""
        },
        {
         "metadata": "{}",
         "name": "total_orders_per_region",
         "type": "\"long\""
        }
       ],
       "type": "table"
      }
     },
     "output_type": "display_data"
    }
   ],
   "source": [
    "# To get the no of orders placed per region, country and continent\n",
    "\n",
    "df_sales.alias('s')\\\n",
    "        .join(df_terr.alias('t'), on = col('s.TerritoryKey') == col('t.SalesTerritoryKey'), how = 'left')\\\n",
    "        .groupBy(col('t.Continent'), col('t.Country'), col('t.Region'))\\\n",
    "        .agg(count(col('OrderNumber')).alias('total_orders_per_region'))\\\n",
    "        .display()\n",
    "    "
   ]
  },
  {
   "cell_type": "code",
   "execution_count": 0,
   "metadata": {
    "application/vnd.databricks.v1+cell": {
     "cellMetadata": {
      "byteLimit": 2048000,
      "rowLimit": 10000
     },
     "inputWidgets": {},
     "nuid": "1c7ce042-003c-46b6-b9cd-7d7e5f62752c",
     "showTitle": false,
     "tableResultSettingsMap": {},
     "title": ""
    }
   },
   "outputs": [],
   "source": []
  }
 ],
 "metadata": {
  "application/vnd.databricks.v1+notebook": {
   "computePreferences": null,
   "dashboards": [],
   "environmentMetadata": {
    "base_environment": "",
    "environment_version": "2"
   },
   "inputWidgetPreferences": null,
   "language": "python",
   "notebookMetadata": {
    "pythonIndentUnit": 4
   },
   "notebookName": "AW_DE_Project-Silver-Layer",
   "widgets": {}
  },
  "language_info": {
   "name": "python"
  }
 },
 "nbformat": 4,
 "nbformat_minor": 0
}